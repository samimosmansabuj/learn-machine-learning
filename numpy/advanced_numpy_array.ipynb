{
 "cells": [
  {
   "cell_type": "code",
   "execution_count": 2,
   "metadata": {
    "id": "yvst92WiAzYh"
   },
   "outputs": [],
   "source": [
    "import numpy as np\n",
    "# now you learn advanced numpy array joining\n",
    "# stacking funciton in numpy (vstack, hstack & column_stack)\n",
    "n1 = np.array([10, 20, 30])\n",
    "n2 = np.array([100, 200, 300])"
   ]
  },
  {
   "cell_type": "code",
   "execution_count": 3,
   "metadata": {
    "colab": {
     "base_uri": "https://localhost:8080/"
    },
    "executionInfo": {
     "elapsed": 40,
     "status": "ok",
     "timestamp": 1741854817356,
     "user": {
      "displayName": "Samim Osman Sabuj",
      "userId": "14037907279009913604"
     },
     "user_tz": -360
    },
    "id": "UfV9isUZBWh9",
    "outputId": "e30a9e95-585f-4c36-cd9f-f30136013ec5"
   },
   "outputs": [
    {
     "data": {
      "text/plain": [
       "array([[ 10,  20,  30],\n",
       "       [100, 200, 300]])"
      ]
     },
     "execution_count": 3,
     "metadata": {},
     "output_type": "execute_result"
    }
   ],
   "source": [
    "# vstack to joining two array vartically\n",
    "np.vstack((n1, n2))"
   ]
  },
  {
   "cell_type": "code",
   "execution_count": 4,
   "metadata": {
    "colab": {
     "base_uri": "https://localhost:8080/"
    },
    "executionInfo": {
     "elapsed": 21,
     "status": "ok",
     "timestamp": 1741854821958,
     "user": {
      "displayName": "Samim Osman Sabuj",
      "userId": "14037907279009913604"
     },
     "user_tz": -360
    },
    "id": "1goGMRMUBmaY",
    "outputId": "6df35811-e960-4f09-f46c-375375f5a86d"
   },
   "outputs": [
    {
     "data": {
      "text/plain": [
       "array([ 10,  20,  30, 100, 200, 300])"
      ]
     },
     "execution_count": 4,
     "metadata": {},
     "output_type": "execute_result"
    }
   ],
   "source": [
    "# hstack to joining two array horizontallay\n",
    "np.hstack((n1, n2))"
   ]
  },
  {
   "cell_type": "code",
   "execution_count": null,
   "metadata": {
    "colab": {
     "base_uri": "https://localhost:8080/"
    },
    "executionInfo": {
     "elapsed": 5,
     "status": "ok",
     "timestamp": 1741854833796,
     "user": {
      "displayName": "Samim Osman Sabuj",
      "userId": "14037907279009913604"
     },
     "user_tz": -360
    },
    "id": "Piy3_ukiBvzA",
    "outputId": "2d15db46-ab05-4253-bd85-cd2df06a1a71"
   },
   "outputs": [
    {
     "data": {
      "text/plain": [
       "array([[ 10, 100],\n",
       "       [ 20, 200],\n",
       "       [ 30, 300]])"
      ]
     },
     "execution_count": 8,
     "metadata": {},
     "output_type": "execute_result"
    }
   ],
   "source": [
    "# column_stack to joining two array in column wise\n",
    "np.column_stack((n1, n2))"
   ]
  },
  {
   "cell_type": "code",
   "execution_count": null,
   "metadata": {
    "id": "GkHPsC9GB3jX"
   },
   "outputs": [],
   "source": [
    "n3 = np.array([10, 20, 30, 40])\n",
    "n4 = np.array([40, 50, 60, 70])"
   ]
  },
  {
   "cell_type": "code",
   "execution_count": null,
   "metadata": {
    "colab": {
     "base_uri": "https://localhost:8080/"
    },
    "executionInfo": {
     "elapsed": 15,
     "status": "ok",
     "timestamp": 1741854937987,
     "user": {
      "displayName": "Samim Osman Sabuj",
      "userId": "14037907279009913604"
     },
     "user_tz": -360
    },
    "id": "obsudB_JpFdd",
    "outputId": "b4405678-f4bc-4ad9-94e4-868badd5297c"
   },
   "outputs": [
    {
     "data": {
      "text/plain": [
       "array([40])"
      ]
     },
     "execution_count": 11,
     "metadata": {},
     "output_type": "execute_result"
    }
   ],
   "source": [
    "#common eliment presented this two numpy array using intersec1d\n",
    "np.intersect1d(n3, n4)"
   ]
  },
  {
   "cell_type": "code",
   "execution_count": null,
   "metadata": {
    "colab": {
     "base_uri": "https://localhost:8080/"
    },
    "executionInfo": {
     "elapsed": 8,
     "status": "ok",
     "timestamp": 1741855012811,
     "user": {
      "displayName": "Samim Osman Sabuj",
      "userId": "14037907279009913604"
     },
     "user_tz": -360
    },
    "id": "L5z5dgfFpOUV",
    "outputId": "bd23d397-d14a-4dd2-b936-0d971daaa643"
   },
   "outputs": [
    {
     "data": {
      "text/plain": [
       "array([10, 20, 30])"
      ]
     },
     "execution_count": 12,
     "metadata": {},
     "output_type": "execute_result"
    }
   ],
   "source": [
    "# Uniqe eliment n3\n",
    "np.setdiff1d(n3, n4)"
   ]
  },
  {
   "cell_type": "code",
   "execution_count": null,
   "metadata": {
    "colab": {
     "base_uri": "https://localhost:8080/"
    },
    "executionInfo": {
     "elapsed": 4,
     "status": "ok",
     "timestamp": 1741855040615,
     "user": {
      "displayName": "Samim Osman Sabuj",
      "userId": "14037907279009913604"
     },
     "user_tz": -360
    },
    "id": "U6bkiHw-pjbd",
    "outputId": "be88fd35-5636-4278-9720-ac066a396146"
   },
   "outputs": [
    {
     "data": {
      "text/plain": [
       "array([50, 60, 70])"
      ]
     },
     "execution_count": 13,
     "metadata": {},
     "output_type": "execute_result"
    }
   ],
   "source": [
    "# Uniqe eliment n4\n",
    "np.setdiff1d(n4, n3)"
   ]
  },
  {
   "cell_type": "code",
   "execution_count": 14,
   "metadata": {
    "colab": {
     "base_uri": "https://localhost:8080/"
    },
    "executionInfo": {
     "elapsed": 16,
     "status": "ok",
     "timestamp": 1741856711368,
     "user": {
      "displayName": "Samim Osman Sabuj",
      "userId": "14037907279009913604"
     },
     "user_tz": -360
    },
    "id": "bXzSGRi3pqNu",
    "outputId": "ec97c252-0455-4a89-b70a-680c357dd886"
   },
   "outputs": [
    {
     "data": {
      "text/plain": [
       "array([10, 40, 30, 79, 30])"
      ]
     },
     "execution_count": 14,
     "metadata": {},
     "output_type": "execute_result"
    }
   ],
   "source": [
    "n5 = np.array([10, 40, 30, 79, 30])\n",
    "n5"
   ]
  },
  {
   "cell_type": "code",
   "execution_count": 15,
   "metadata": {
    "executionInfo": {
     "elapsed": 10,
     "status": "ok",
     "timestamp": 1741856736931,
     "user": {
      "displayName": "Samim Osman Sabuj",
      "userId": "14037907279009913604"
     },
     "user_tz": -360
    },
    "id": "mVzcoyiWwCHf"
   },
   "outputs": [],
   "source": [
    "# save the numpy array as a my_array\n",
    "np.save('my_array', n5)"
   ]
  },
  {
   "cell_type": "code",
   "execution_count": 19,
   "metadata": {
    "colab": {
     "base_uri": "https://localhost:8080/"
    },
    "executionInfo": {
     "elapsed": 18,
     "status": "ok",
     "timestamp": 1741856799308,
     "user": {
      "displayName": "Samim Osman Sabuj",
      "userId": "14037907279009913604"
     },
     "user_tz": -360
    },
    "id": "LhJWjmA3wIW-",
    "outputId": "4152ce41-7089-4b58-8964-98e63eb31900"
   },
   "outputs": [
    {
     "data": {
      "text/plain": [
       "array([10, 40, 30, 79, 30])"
      ]
     },
     "execution_count": 19,
     "metadata": {},
     "output_type": "execute_result"
    }
   ],
   "source": [
    "# load my_array in n2 variable\n",
    "n2 = np.load('my_array.npy')\n",
    "n2"
   ]
  },
  {
   "cell_type": "code",
   "execution_count": null,
   "metadata": {
    "id": "2MfpoTdwwMFV"
   },
   "outputs": [],
   "source": []
  }
 ],
 "metadata": {
  "colab": {
   "authorship_tag": "ABX9TyOZMpEDHG+Z/eT6KTHvYTi6",
   "provenance": []
  },
  "kernelspec": {
   "display_name": "Python 3",
   "name": "python3"
  },
  "language_info": {
   "codemirror_mode": {
    "name": "ipython",
    "version": 3
   },
   "file_extension": ".py",
   "mimetype": "text/x-python",
   "name": "python",
   "nbconvert_exporter": "python",
   "pygments_lexer": "ipython3",
   "version": "3.13.2"
  }
 },
 "nbformat": 4,
 "nbformat_minor": 0
}
