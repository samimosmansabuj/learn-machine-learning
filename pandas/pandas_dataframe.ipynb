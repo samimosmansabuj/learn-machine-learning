{
 "cells": [
  {
   "cell_type": "markdown",
   "id": "dd1aba59-b75e-4787-8c6c-0b30806db50d",
   "metadata": {},
   "source": [
    "***Import Pandas Library***"
   ]
  },
  {
   "cell_type": "code",
   "execution_count": 232,
   "id": "92d0b850-77ab-49e7-a3ec-3c242b5fa639",
   "metadata": {},
   "outputs": [],
   "source": [
    "import pandas as pd"
   ]
  },
  {
   "cell_type": "markdown",
   "id": "1916445b-fa8c-42f2-96a8-8a5509a4b56c",
   "metadata": {},
   "source": [
    "***Read CSV File Using Pandas Library***"
   ]
  },
  {
   "cell_type": "code",
   "execution_count": 233,
   "id": "7db4e1cc-a537-4635-8cd2-0f1574019c8c",
   "metadata": {},
   "outputs": [],
   "source": [
    "dataframe = pd.read_csv(\"example.csv\")"
   ]
  },
  {
   "cell_type": "code",
   "execution_count": 234,
   "id": "2507cab1-0a43-4a20-bfb0-c7e3e6670efb",
   "metadata": {},
   "outputs": [
    {
     "data": {
      "text/html": [
       "<div>\n",
       "<style scoped>\n",
       "    .dataframe tbody tr th:only-of-type {\n",
       "        vertical-align: middle;\n",
       "    }\n",
       "\n",
       "    .dataframe tbody tr th {\n",
       "        vertical-align: top;\n",
       "    }\n",
       "\n",
       "    .dataframe thead th {\n",
       "        text-align: right;\n",
       "    }\n",
       "</style>\n",
       "<table border=\"1\" class=\"dataframe\">\n",
       "  <thead>\n",
       "    <tr style=\"text-align: right;\">\n",
       "      <th></th>\n",
       "      <th>Name</th>\n",
       "      <th>Job Titles</th>\n",
       "      <th>Department</th>\n",
       "      <th>Full or Part-Time</th>\n",
       "      <th>Salary or Hourly</th>\n",
       "      <th>Typical Hours</th>\n",
       "      <th>Annual Salary</th>\n",
       "      <th>Hourly Rate</th>\n",
       "    </tr>\n",
       "  </thead>\n",
       "  <tbody>\n",
       "    <tr>\n",
       "      <th>0</th>\n",
       "      <td>ALLISON,  PAUL W</td>\n",
       "      <td>LIEUTENANT</td>\n",
       "      <td>FIRE</td>\n",
       "      <td>F</td>\n",
       "      <td>Salary</td>\n",
       "      <td>NaN</td>\n",
       "      <td>$107,790.00</td>\n",
       "      <td>NaN</td>\n",
       "    </tr>\n",
       "    <tr>\n",
       "      <th>1</th>\n",
       "      <td>BRUNO,  KEVIN D</td>\n",
       "      <td>SERGEANT</td>\n",
       "      <td>POLICE</td>\n",
       "      <td>F</td>\n",
       "      <td>Salary</td>\n",
       "      <td>NaN</td>\n",
       "      <td>$104,628.00</td>\n",
       "      <td>NaN</td>\n",
       "    </tr>\n",
       "    <tr>\n",
       "      <th>2</th>\n",
       "      <td>COOPER,  JOHN E</td>\n",
       "      <td>LIEUTENANT-EMT</td>\n",
       "      <td>FIRE</td>\n",
       "      <td>F</td>\n",
       "      <td>Salary</td>\n",
       "      <td>NaN</td>\n",
       "      <td>$114,324.00</td>\n",
       "      <td>NaN</td>\n",
       "    </tr>\n",
       "    <tr>\n",
       "      <th>3</th>\n",
       "      <td>CRESPO,  VILMA I</td>\n",
       "      <td>STAFF ASST</td>\n",
       "      <td>LAW</td>\n",
       "      <td>F</td>\n",
       "      <td>Salary</td>\n",
       "      <td>NaN</td>\n",
       "      <td>$76,932.00</td>\n",
       "      <td>NaN</td>\n",
       "    </tr>\n",
       "    <tr>\n",
       "      <th>4</th>\n",
       "      <td>DOLAN,  ROBERT J</td>\n",
       "      <td>SERGEANT</td>\n",
       "      <td>POLICE</td>\n",
       "      <td>F</td>\n",
       "      <td>Salary</td>\n",
       "      <td>NaN</td>\n",
       "      <td>$111,474.00</td>\n",
       "      <td>NaN</td>\n",
       "    </tr>\n",
       "    <tr>\n",
       "      <th>...</th>\n",
       "      <td>...</td>\n",
       "      <td>...</td>\n",
       "      <td>...</td>\n",
       "      <td>...</td>\n",
       "      <td>...</td>\n",
       "      <td>...</td>\n",
       "      <td>...</td>\n",
       "      <td>...</td>\n",
       "    </tr>\n",
       "    <tr>\n",
       "      <th>32653</th>\n",
       "      <td>ZYGOWICZ,  PETER J</td>\n",
       "      <td>POLICE OFFICER</td>\n",
       "      <td>POLICE</td>\n",
       "      <td>F</td>\n",
       "      <td>Salary</td>\n",
       "      <td>NaN</td>\n",
       "      <td>$90,024.00</td>\n",
       "      <td>NaN</td>\n",
       "    </tr>\n",
       "    <tr>\n",
       "      <th>32654</th>\n",
       "      <td>ZYLINSKA,  KATARZYNA</td>\n",
       "      <td>POLICE OFFICER</td>\n",
       "      <td>POLICE</td>\n",
       "      <td>F</td>\n",
       "      <td>Salary</td>\n",
       "      <td>NaN</td>\n",
       "      <td>$48,078.00</td>\n",
       "      <td>NaN</td>\n",
       "    </tr>\n",
       "    <tr>\n",
       "      <th>32655</th>\n",
       "      <td>ZYMANTAS,  MARK E</td>\n",
       "      <td>POLICE OFFICER</td>\n",
       "      <td>POLICE</td>\n",
       "      <td>F</td>\n",
       "      <td>Salary</td>\n",
       "      <td>NaN</td>\n",
       "      <td>$87,006.00</td>\n",
       "      <td>NaN</td>\n",
       "    </tr>\n",
       "    <tr>\n",
       "      <th>32656</th>\n",
       "      <td>ZYRKOWSKI,  CARLO E</td>\n",
       "      <td>POLICE OFFICER</td>\n",
       "      <td>POLICE</td>\n",
       "      <td>F</td>\n",
       "      <td>Salary</td>\n",
       "      <td>NaN</td>\n",
       "      <td>$93,354.00</td>\n",
       "      <td>NaN</td>\n",
       "    </tr>\n",
       "    <tr>\n",
       "      <th>32657</th>\n",
       "      <td>ZYSKOWSKI,  DARIUSZ</td>\n",
       "      <td>CHIEF DATA BASE ANALYST</td>\n",
       "      <td>DoIT</td>\n",
       "      <td>F</td>\n",
       "      <td>Salary</td>\n",
       "      <td>NaN</td>\n",
       "      <td>$115,932.00</td>\n",
       "      <td>NaN</td>\n",
       "    </tr>\n",
       "  </tbody>\n",
       "</table>\n",
       "<p>32658 rows × 8 columns</p>\n",
       "</div>"
      ],
      "text/plain": [
       "                        Name               Job Titles Department  \\\n",
       "0           ALLISON,  PAUL W               LIEUTENANT       FIRE   \n",
       "1            BRUNO,  KEVIN D                 SERGEANT     POLICE   \n",
       "2            COOPER,  JOHN E           LIEUTENANT-EMT       FIRE   \n",
       "3           CRESPO,  VILMA I               STAFF ASST        LAW   \n",
       "4           DOLAN,  ROBERT J                 SERGEANT     POLICE   \n",
       "...                      ...                      ...        ...   \n",
       "32653     ZYGOWICZ,  PETER J           POLICE OFFICER     POLICE   \n",
       "32654  ZYLINSKA,  KATARZYNA            POLICE OFFICER     POLICE   \n",
       "32655      ZYMANTAS,  MARK E           POLICE OFFICER     POLICE   \n",
       "32656    ZYRKOWSKI,  CARLO E           POLICE OFFICER     POLICE   \n",
       "32657   ZYSKOWSKI,  DARIUSZ   CHIEF DATA BASE ANALYST       DoIT   \n",
       "\n",
       "      Full or Part-Time Salary or Hourly  Typical Hours Annual Salary  \\\n",
       "0                     F           Salary            NaN  $107,790.00    \n",
       "1                     F           Salary            NaN  $104,628.00    \n",
       "2                     F           Salary            NaN  $114,324.00    \n",
       "3                     F           Salary            NaN   $76,932.00    \n",
       "4                     F           Salary            NaN  $111,474.00    \n",
       "...                 ...              ...            ...           ...   \n",
       "32653                 F           Salary            NaN   $90,024.00    \n",
       "32654                 F           Salary            NaN   $48,078.00    \n",
       "32655                 F           Salary            NaN   $87,006.00    \n",
       "32656                 F           Salary            NaN   $93,354.00    \n",
       "32657                 F           Salary            NaN  $115,932.00    \n",
       "\n",
       "      Hourly Rate  \n",
       "0             NaN  \n",
       "1             NaN  \n",
       "2             NaN  \n",
       "3             NaN  \n",
       "4             NaN  \n",
       "...           ...  \n",
       "32653         NaN  \n",
       "32654         NaN  \n",
       "32655         NaN  \n",
       "32656         NaN  \n",
       "32657         NaN  \n",
       "\n",
       "[32658 rows x 8 columns]"
      ]
     },
     "execution_count": 234,
     "metadata": {},
     "output_type": "execute_result"
    }
   ],
   "source": [
    "dataframe"
   ]
  },
  {
   "cell_type": "code",
   "execution_count": null,
   "id": "778a0464-838b-49bf-847d-382c885be19b",
   "metadata": {},
   "outputs": [],
   "source": []
  },
  {
   "cell_type": "markdown",
   "id": "9d3bd99d-3d9a-468e-b653-0d03e0b4eb85",
   "metadata": {},
   "source": [
    "***Show first five records from this dataframe***"
   ]
  },
  {
   "cell_type": "code",
   "execution_count": 235,
   "id": "67e87abc-f12c-413a-82b1-8bd670048b80",
   "metadata": {},
   "outputs": [
    {
     "data": {
      "text/html": [
       "<div>\n",
       "<style scoped>\n",
       "    .dataframe tbody tr th:only-of-type {\n",
       "        vertical-align: middle;\n",
       "    }\n",
       "\n",
       "    .dataframe tbody tr th {\n",
       "        vertical-align: top;\n",
       "    }\n",
       "\n",
       "    .dataframe thead th {\n",
       "        text-align: right;\n",
       "    }\n",
       "</style>\n",
       "<table border=\"1\" class=\"dataframe\">\n",
       "  <thead>\n",
       "    <tr style=\"text-align: right;\">\n",
       "      <th></th>\n",
       "      <th>Name</th>\n",
       "      <th>Job Titles</th>\n",
       "      <th>Department</th>\n",
       "      <th>Full or Part-Time</th>\n",
       "      <th>Salary or Hourly</th>\n",
       "      <th>Typical Hours</th>\n",
       "      <th>Annual Salary</th>\n",
       "      <th>Hourly Rate</th>\n",
       "    </tr>\n",
       "  </thead>\n",
       "  <tbody>\n",
       "    <tr>\n",
       "      <th>0</th>\n",
       "      <td>ALLISON,  PAUL W</td>\n",
       "      <td>LIEUTENANT</td>\n",
       "      <td>FIRE</td>\n",
       "      <td>F</td>\n",
       "      <td>Salary</td>\n",
       "      <td>NaN</td>\n",
       "      <td>$107,790.00</td>\n",
       "      <td>NaN</td>\n",
       "    </tr>\n",
       "    <tr>\n",
       "      <th>1</th>\n",
       "      <td>BRUNO,  KEVIN D</td>\n",
       "      <td>SERGEANT</td>\n",
       "      <td>POLICE</td>\n",
       "      <td>F</td>\n",
       "      <td>Salary</td>\n",
       "      <td>NaN</td>\n",
       "      <td>$104,628.00</td>\n",
       "      <td>NaN</td>\n",
       "    </tr>\n",
       "    <tr>\n",
       "      <th>2</th>\n",
       "      <td>COOPER,  JOHN E</td>\n",
       "      <td>LIEUTENANT-EMT</td>\n",
       "      <td>FIRE</td>\n",
       "      <td>F</td>\n",
       "      <td>Salary</td>\n",
       "      <td>NaN</td>\n",
       "      <td>$114,324.00</td>\n",
       "      <td>NaN</td>\n",
       "    </tr>\n",
       "    <tr>\n",
       "      <th>3</th>\n",
       "      <td>CRESPO,  VILMA I</td>\n",
       "      <td>STAFF ASST</td>\n",
       "      <td>LAW</td>\n",
       "      <td>F</td>\n",
       "      <td>Salary</td>\n",
       "      <td>NaN</td>\n",
       "      <td>$76,932.00</td>\n",
       "      <td>NaN</td>\n",
       "    </tr>\n",
       "    <tr>\n",
       "      <th>4</th>\n",
       "      <td>DOLAN,  ROBERT J</td>\n",
       "      <td>SERGEANT</td>\n",
       "      <td>POLICE</td>\n",
       "      <td>F</td>\n",
       "      <td>Salary</td>\n",
       "      <td>NaN</td>\n",
       "      <td>$111,474.00</td>\n",
       "      <td>NaN</td>\n",
       "    </tr>\n",
       "  </tbody>\n",
       "</table>\n",
       "</div>"
      ],
      "text/plain": [
       "               Name      Job Titles Department Full or Part-Time  \\\n",
       "0  ALLISON,  PAUL W      LIEUTENANT       FIRE                 F   \n",
       "1   BRUNO,  KEVIN D        SERGEANT     POLICE                 F   \n",
       "2   COOPER,  JOHN E  LIEUTENANT-EMT       FIRE                 F   \n",
       "3  CRESPO,  VILMA I      STAFF ASST        LAW                 F   \n",
       "4  DOLAN,  ROBERT J        SERGEANT     POLICE                 F   \n",
       "\n",
       "  Salary or Hourly  Typical Hours Annual Salary Hourly Rate  \n",
       "0           Salary            NaN  $107,790.00          NaN  \n",
       "1           Salary            NaN  $104,628.00          NaN  \n",
       "2           Salary            NaN  $114,324.00          NaN  \n",
       "3           Salary            NaN   $76,932.00          NaN  \n",
       "4           Salary            NaN  $111,474.00          NaN  "
      ]
     },
     "execution_count": 235,
     "metadata": {},
     "output_type": "execute_result"
    }
   ],
   "source": [
    "dataframe.head()"
   ]
  },
  {
   "cell_type": "markdown",
   "id": "e96f9115-2366-48e2-b5db-cc46845410cd",
   "metadata": {},
   "source": [
    "***Show last five records from this dataframe***"
   ]
  },
  {
   "cell_type": "code",
   "execution_count": 236,
   "id": "22f45a2b-6af5-4931-851e-0ed8fd9e8d39",
   "metadata": {},
   "outputs": [
    {
     "data": {
      "text/html": [
       "<div>\n",
       "<style scoped>\n",
       "    .dataframe tbody tr th:only-of-type {\n",
       "        vertical-align: middle;\n",
       "    }\n",
       "\n",
       "    .dataframe tbody tr th {\n",
       "        vertical-align: top;\n",
       "    }\n",
       "\n",
       "    .dataframe thead th {\n",
       "        text-align: right;\n",
       "    }\n",
       "</style>\n",
       "<table border=\"1\" class=\"dataframe\">\n",
       "  <thead>\n",
       "    <tr style=\"text-align: right;\">\n",
       "      <th></th>\n",
       "      <th>Name</th>\n",
       "      <th>Job Titles</th>\n",
       "      <th>Department</th>\n",
       "      <th>Full or Part-Time</th>\n",
       "      <th>Salary or Hourly</th>\n",
       "      <th>Typical Hours</th>\n",
       "      <th>Annual Salary</th>\n",
       "      <th>Hourly Rate</th>\n",
       "    </tr>\n",
       "  </thead>\n",
       "  <tbody>\n",
       "    <tr>\n",
       "      <th>32653</th>\n",
       "      <td>ZYGOWICZ,  PETER J</td>\n",
       "      <td>POLICE OFFICER</td>\n",
       "      <td>POLICE</td>\n",
       "      <td>F</td>\n",
       "      <td>Salary</td>\n",
       "      <td>NaN</td>\n",
       "      <td>$90,024.00</td>\n",
       "      <td>NaN</td>\n",
       "    </tr>\n",
       "    <tr>\n",
       "      <th>32654</th>\n",
       "      <td>ZYLINSKA,  KATARZYNA</td>\n",
       "      <td>POLICE OFFICER</td>\n",
       "      <td>POLICE</td>\n",
       "      <td>F</td>\n",
       "      <td>Salary</td>\n",
       "      <td>NaN</td>\n",
       "      <td>$48,078.00</td>\n",
       "      <td>NaN</td>\n",
       "    </tr>\n",
       "    <tr>\n",
       "      <th>32655</th>\n",
       "      <td>ZYMANTAS,  MARK E</td>\n",
       "      <td>POLICE OFFICER</td>\n",
       "      <td>POLICE</td>\n",
       "      <td>F</td>\n",
       "      <td>Salary</td>\n",
       "      <td>NaN</td>\n",
       "      <td>$87,006.00</td>\n",
       "      <td>NaN</td>\n",
       "    </tr>\n",
       "    <tr>\n",
       "      <th>32656</th>\n",
       "      <td>ZYRKOWSKI,  CARLO E</td>\n",
       "      <td>POLICE OFFICER</td>\n",
       "      <td>POLICE</td>\n",
       "      <td>F</td>\n",
       "      <td>Salary</td>\n",
       "      <td>NaN</td>\n",
       "      <td>$93,354.00</td>\n",
       "      <td>NaN</td>\n",
       "    </tr>\n",
       "    <tr>\n",
       "      <th>32657</th>\n",
       "      <td>ZYSKOWSKI,  DARIUSZ</td>\n",
       "      <td>CHIEF DATA BASE ANALYST</td>\n",
       "      <td>DoIT</td>\n",
       "      <td>F</td>\n",
       "      <td>Salary</td>\n",
       "      <td>NaN</td>\n",
       "      <td>$115,932.00</td>\n",
       "      <td>NaN</td>\n",
       "    </tr>\n",
       "  </tbody>\n",
       "</table>\n",
       "</div>"
      ],
      "text/plain": [
       "                        Name               Job Titles Department  \\\n",
       "32653     ZYGOWICZ,  PETER J           POLICE OFFICER     POLICE   \n",
       "32654  ZYLINSKA,  KATARZYNA            POLICE OFFICER     POLICE   \n",
       "32655      ZYMANTAS,  MARK E           POLICE OFFICER     POLICE   \n",
       "32656    ZYRKOWSKI,  CARLO E           POLICE OFFICER     POLICE   \n",
       "32657   ZYSKOWSKI,  DARIUSZ   CHIEF DATA BASE ANALYST       DoIT   \n",
       "\n",
       "      Full or Part-Time Salary or Hourly  Typical Hours Annual Salary  \\\n",
       "32653                 F           Salary            NaN   $90,024.00    \n",
       "32654                 F           Salary            NaN   $48,078.00    \n",
       "32655                 F           Salary            NaN   $87,006.00    \n",
       "32656                 F           Salary            NaN   $93,354.00    \n",
       "32657                 F           Salary            NaN  $115,932.00    \n",
       "\n",
       "      Hourly Rate  \n",
       "32653         NaN  \n",
       "32654         NaN  \n",
       "32655         NaN  \n",
       "32656         NaN  \n",
       "32657         NaN  "
      ]
     },
     "execution_count": 236,
     "metadata": {},
     "output_type": "execute_result"
    }
   ],
   "source": [
    "dataframe.tail()"
   ]
  },
  {
   "cell_type": "code",
   "execution_count": null,
   "id": "bf7d1af1-ffca-4a1e-8e13-4cce1a3f07a4",
   "metadata": {},
   "outputs": [],
   "source": []
  },
  {
   "cell_type": "markdown",
   "id": "a302aebd-f01b-4dff-9e49-bcbae3ea9e30",
   "metadata": {},
   "source": [
    "***Show the overview in this dataframe***"
   ]
  },
  {
   "cell_type": "code",
   "execution_count": 237,
   "id": "c6705509-93fa-403a-b547-d09fb29009c0",
   "metadata": {},
   "outputs": [
    {
     "name": "stdout",
     "output_type": "stream",
     "text": [
      "<class 'pandas.core.frame.DataFrame'>\n",
      "RangeIndex: 32658 entries, 0 to 32657\n",
      "Data columns (total 8 columns):\n",
      " #   Column             Non-Null Count  Dtype  \n",
      "---  ------             --------------  -----  \n",
      " 0   Name               32658 non-null  object \n",
      " 1   Job Titles         32658 non-null  object \n",
      " 2   Department         32658 non-null  object \n",
      " 3   Full or Part-Time  32658 non-null  object \n",
      " 4   Salary or Hourly   32658 non-null  object \n",
      " 5   Typical Hours      7883 non-null   float64\n",
      " 6   Annual Salary      24775 non-null  object \n",
      " 7   Hourly Rate        7883 non-null   object \n",
      "dtypes: float64(1), object(7)\n",
      "memory usage: 2.0+ MB\n"
     ]
    }
   ],
   "source": [
    "dataframe.info()"
   ]
  },
  {
   "cell_type": "code",
   "execution_count": null,
   "id": "5759dbb8-0211-48da-bb19-7ff773226ec8",
   "metadata": {},
   "outputs": [],
   "source": []
  },
  {
   "cell_type": "markdown",
   "id": "50bbb46c-238f-40ce-8cad-01d03dc0d637",
   "metadata": {},
   "source": [
    "***Show how many 'NaN' values are present in each column.***"
   ]
  },
  {
   "cell_type": "code",
   "execution_count": 238,
   "id": "2e066421-15e7-4555-9081-6f428ae1b8f6",
   "metadata": {},
   "outputs": [
    {
     "data": {
      "text/html": [
       "<div>\n",
       "<style scoped>\n",
       "    .dataframe tbody tr th:only-of-type {\n",
       "        vertical-align: middle;\n",
       "    }\n",
       "\n",
       "    .dataframe tbody tr th {\n",
       "        vertical-align: top;\n",
       "    }\n",
       "\n",
       "    .dataframe thead th {\n",
       "        text-align: right;\n",
       "    }\n",
       "</style>\n",
       "<table border=\"1\" class=\"dataframe\">\n",
       "  <thead>\n",
       "    <tr style=\"text-align: right;\">\n",
       "      <th></th>\n",
       "      <th>Name</th>\n",
       "      <th>Job Titles</th>\n",
       "      <th>Department</th>\n",
       "      <th>Full or Part-Time</th>\n",
       "      <th>Salary or Hourly</th>\n",
       "      <th>Typical Hours</th>\n",
       "      <th>Annual Salary</th>\n",
       "      <th>Hourly Rate</th>\n",
       "    </tr>\n",
       "  </thead>\n",
       "  <tbody>\n",
       "    <tr>\n",
       "      <th>0</th>\n",
       "      <td>False</td>\n",
       "      <td>False</td>\n",
       "      <td>False</td>\n",
       "      <td>False</td>\n",
       "      <td>False</td>\n",
       "      <td>True</td>\n",
       "      <td>False</td>\n",
       "      <td>True</td>\n",
       "    </tr>\n",
       "    <tr>\n",
       "      <th>1</th>\n",
       "      <td>False</td>\n",
       "      <td>False</td>\n",
       "      <td>False</td>\n",
       "      <td>False</td>\n",
       "      <td>False</td>\n",
       "      <td>True</td>\n",
       "      <td>False</td>\n",
       "      <td>True</td>\n",
       "    </tr>\n",
       "    <tr>\n",
       "      <th>2</th>\n",
       "      <td>False</td>\n",
       "      <td>False</td>\n",
       "      <td>False</td>\n",
       "      <td>False</td>\n",
       "      <td>False</td>\n",
       "      <td>True</td>\n",
       "      <td>False</td>\n",
       "      <td>True</td>\n",
       "    </tr>\n",
       "    <tr>\n",
       "      <th>3</th>\n",
       "      <td>False</td>\n",
       "      <td>False</td>\n",
       "      <td>False</td>\n",
       "      <td>False</td>\n",
       "      <td>False</td>\n",
       "      <td>True</td>\n",
       "      <td>False</td>\n",
       "      <td>True</td>\n",
       "    </tr>\n",
       "    <tr>\n",
       "      <th>4</th>\n",
       "      <td>False</td>\n",
       "      <td>False</td>\n",
       "      <td>False</td>\n",
       "      <td>False</td>\n",
       "      <td>False</td>\n",
       "      <td>True</td>\n",
       "      <td>False</td>\n",
       "      <td>True</td>\n",
       "    </tr>\n",
       "    <tr>\n",
       "      <th>...</th>\n",
       "      <td>...</td>\n",
       "      <td>...</td>\n",
       "      <td>...</td>\n",
       "      <td>...</td>\n",
       "      <td>...</td>\n",
       "      <td>...</td>\n",
       "      <td>...</td>\n",
       "      <td>...</td>\n",
       "    </tr>\n",
       "    <tr>\n",
       "      <th>32653</th>\n",
       "      <td>False</td>\n",
       "      <td>False</td>\n",
       "      <td>False</td>\n",
       "      <td>False</td>\n",
       "      <td>False</td>\n",
       "      <td>True</td>\n",
       "      <td>False</td>\n",
       "      <td>True</td>\n",
       "    </tr>\n",
       "    <tr>\n",
       "      <th>32654</th>\n",
       "      <td>False</td>\n",
       "      <td>False</td>\n",
       "      <td>False</td>\n",
       "      <td>False</td>\n",
       "      <td>False</td>\n",
       "      <td>True</td>\n",
       "      <td>False</td>\n",
       "      <td>True</td>\n",
       "    </tr>\n",
       "    <tr>\n",
       "      <th>32655</th>\n",
       "      <td>False</td>\n",
       "      <td>False</td>\n",
       "      <td>False</td>\n",
       "      <td>False</td>\n",
       "      <td>False</td>\n",
       "      <td>True</td>\n",
       "      <td>False</td>\n",
       "      <td>True</td>\n",
       "    </tr>\n",
       "    <tr>\n",
       "      <th>32656</th>\n",
       "      <td>False</td>\n",
       "      <td>False</td>\n",
       "      <td>False</td>\n",
       "      <td>False</td>\n",
       "      <td>False</td>\n",
       "      <td>True</td>\n",
       "      <td>False</td>\n",
       "      <td>True</td>\n",
       "    </tr>\n",
       "    <tr>\n",
       "      <th>32657</th>\n",
       "      <td>False</td>\n",
       "      <td>False</td>\n",
       "      <td>False</td>\n",
       "      <td>False</td>\n",
       "      <td>False</td>\n",
       "      <td>True</td>\n",
       "      <td>False</td>\n",
       "      <td>True</td>\n",
       "    </tr>\n",
       "  </tbody>\n",
       "</table>\n",
       "<p>32658 rows × 8 columns</p>\n",
       "</div>"
      ],
      "text/plain": [
       "        Name  Job Titles  Department  Full or Part-Time  Salary or Hourly  \\\n",
       "0      False       False       False              False             False   \n",
       "1      False       False       False              False             False   \n",
       "2      False       False       False              False             False   \n",
       "3      False       False       False              False             False   \n",
       "4      False       False       False              False             False   \n",
       "...      ...         ...         ...                ...               ...   \n",
       "32653  False       False       False              False             False   \n",
       "32654  False       False       False              False             False   \n",
       "32655  False       False       False              False             False   \n",
       "32656  False       False       False              False             False   \n",
       "32657  False       False       False              False             False   \n",
       "\n",
       "       Typical Hours  Annual Salary  Hourly Rate  \n",
       "0               True          False         True  \n",
       "1               True          False         True  \n",
       "2               True          False         True  \n",
       "3               True          False         True  \n",
       "4               True          False         True  \n",
       "...              ...            ...          ...  \n",
       "32653           True          False         True  \n",
       "32654           True          False         True  \n",
       "32655           True          False         True  \n",
       "32656           True          False         True  \n",
       "32657           True          False         True  \n",
       "\n",
       "[32658 rows x 8 columns]"
      ]
     },
     "execution_count": 238,
     "metadata": {},
     "output_type": "execute_result"
    }
   ],
   "source": [
    "dataframe.isnull()"
   ]
  },
  {
   "cell_type": "code",
   "execution_count": 239,
   "id": "4a42f075-b5c0-4f49-911e-747f17bb68cd",
   "metadata": {},
   "outputs": [
    {
     "data": {
      "text/plain": [
       "Name                     0\n",
       "Job Titles               0\n",
       "Department               0\n",
       "Full or Part-Time        0\n",
       "Salary or Hourly         0\n",
       "Typical Hours        24775\n",
       "Annual Salary         7883\n",
       "Hourly Rate          24775\n",
       "dtype: int64"
      ]
     },
     "execution_count": 239,
     "metadata": {},
     "output_type": "execute_result"
    }
   ],
   "source": [
    "dataframe.isnull().sum()"
   ]
  },
  {
   "cell_type": "code",
   "execution_count": null,
   "id": "9d3f656c-6b76-47b1-8329-b7c071d72c6c",
   "metadata": {},
   "outputs": [],
   "source": []
  },
  {
   "cell_type": "markdown",
   "id": "6bbed556-5d85-4045-8470-33ed379c3efe",
   "metadata": {},
   "source": [
    "***Shorted Value ascending & descending***"
   ]
  },
  {
   "cell_type": "code",
   "execution_count": 240,
   "id": "f08c702c-d305-4d4c-b987-ee8042c7f0d3",
   "metadata": {},
   "outputs": [
    {
     "name": "stdout",
     "output_type": "stream",
     "text": [
      "......Show Ascending Values......\n",
      "Name                     0\n",
      "Job Titles               0\n",
      "Department               0\n",
      "Full or Part-Time        0\n",
      "Salary or Hourly         0\n",
      "Annual Salary         7883\n",
      "Typical Hours        24775\n",
      "Hourly Rate          24775\n",
      "dtype: int64\n",
      "......Show Descending Values......\n",
      "Hourly Rate          24775\n",
      "Typical Hours        24775\n",
      "Annual Salary         7883\n",
      "Name                     0\n",
      "Full or Part-Time        0\n",
      "Department               0\n",
      "Job Titles               0\n",
      "Salary or Hourly         0\n",
      "dtype: int64\n"
     ]
    }
   ],
   "source": [
    "print(\"......Show Ascending Values......\")\n",
    "print(dataframe.isnull().sum().sort_values(ascending=True))\n",
    "print(\"......Show Descending Values......\")\n",
    "print(dataframe.isnull().sum().sort_values(ascending=False))"
   ]
  },
  {
   "cell_type": "code",
   "execution_count": null,
   "id": "637d0e41-147f-42b4-9692-072377cb3b4d",
   "metadata": {},
   "outputs": [],
   "source": []
  },
  {
   "cell_type": "markdown",
   "id": "91c430f9-59eb-4acb-8489-f9c262d8e5b0",
   "metadata": {},
   "source": [
    "***Generate a summary of dataset statistics. (Only Numarical Data)***"
   ]
  },
  {
   "cell_type": "code",
   "execution_count": 241,
   "id": "e0836a95-adf4-4d80-bf57-61a0b3fc0144",
   "metadata": {},
   "outputs": [
    {
     "data": {
      "text/html": [
       "<div>\n",
       "<style scoped>\n",
       "    .dataframe tbody tr th:only-of-type {\n",
       "        vertical-align: middle;\n",
       "    }\n",
       "\n",
       "    .dataframe tbody tr th {\n",
       "        vertical-align: top;\n",
       "    }\n",
       "\n",
       "    .dataframe thead th {\n",
       "        text-align: right;\n",
       "    }\n",
       "</style>\n",
       "<table border=\"1\" class=\"dataframe\">\n",
       "  <thead>\n",
       "    <tr style=\"text-align: right;\">\n",
       "      <th></th>\n",
       "      <th>Typical Hours</th>\n",
       "    </tr>\n",
       "  </thead>\n",
       "  <tbody>\n",
       "    <tr>\n",
       "      <th>count</th>\n",
       "      <td>7883.000000</td>\n",
       "    </tr>\n",
       "    <tr>\n",
       "      <th>mean</th>\n",
       "      <td>34.698719</td>\n",
       "    </tr>\n",
       "    <tr>\n",
       "      <th>std</th>\n",
       "      <td>9.145553</td>\n",
       "    </tr>\n",
       "    <tr>\n",
       "      <th>min</th>\n",
       "      <td>10.000000</td>\n",
       "    </tr>\n",
       "    <tr>\n",
       "      <th>25%</th>\n",
       "      <td>20.000000</td>\n",
       "    </tr>\n",
       "    <tr>\n",
       "      <th>50%</th>\n",
       "      <td>40.000000</td>\n",
       "    </tr>\n",
       "    <tr>\n",
       "      <th>75%</th>\n",
       "      <td>40.000000</td>\n",
       "    </tr>\n",
       "    <tr>\n",
       "      <th>max</th>\n",
       "      <td>40.000000</td>\n",
       "    </tr>\n",
       "  </tbody>\n",
       "</table>\n",
       "</div>"
      ],
      "text/plain": [
       "       Typical Hours\n",
       "count    7883.000000\n",
       "mean       34.698719\n",
       "std         9.145553\n",
       "min        10.000000\n",
       "25%        20.000000\n",
       "50%        40.000000\n",
       "75%        40.000000\n",
       "max        40.000000"
      ]
     },
     "execution_count": 241,
     "metadata": {},
     "output_type": "execute_result"
    }
   ],
   "source": [
    "dataframe.describe()"
   ]
  },
  {
   "cell_type": "markdown",
   "id": "b18a853a-7b66-4e0b-83e2-bd13385a79e5",
   "metadata": {},
   "source": [
    "***Generate a summary of dataset statistics. (All Data)***"
   ]
  },
  {
   "cell_type": "code",
   "execution_count": 242,
   "id": "95f82d0a-afd5-4d6c-a11f-492b8ba9be41",
   "metadata": {},
   "outputs": [
    {
     "data": {
      "text/html": [
       "<div>\n",
       "<style scoped>\n",
       "    .dataframe tbody tr th:only-of-type {\n",
       "        vertical-align: middle;\n",
       "    }\n",
       "\n",
       "    .dataframe tbody tr th {\n",
       "        vertical-align: top;\n",
       "    }\n",
       "\n",
       "    .dataframe thead th {\n",
       "        text-align: right;\n",
       "    }\n",
       "</style>\n",
       "<table border=\"1\" class=\"dataframe\">\n",
       "  <thead>\n",
       "    <tr style=\"text-align: right;\">\n",
       "      <th></th>\n",
       "      <th>Name</th>\n",
       "      <th>Job Titles</th>\n",
       "      <th>Department</th>\n",
       "      <th>Full or Part-Time</th>\n",
       "      <th>Salary or Hourly</th>\n",
       "      <th>Typical Hours</th>\n",
       "      <th>Annual Salary</th>\n",
       "      <th>Hourly Rate</th>\n",
       "    </tr>\n",
       "  </thead>\n",
       "  <tbody>\n",
       "    <tr>\n",
       "      <th>count</th>\n",
       "      <td>32658</td>\n",
       "      <td>32658</td>\n",
       "      <td>32658</td>\n",
       "      <td>32658</td>\n",
       "      <td>32658</td>\n",
       "      <td>7883.000000</td>\n",
       "      <td>24775</td>\n",
       "      <td>7883</td>\n",
       "    </tr>\n",
       "    <tr>\n",
       "      <th>unique</th>\n",
       "      <td>32350</td>\n",
       "      <td>1095</td>\n",
       "      <td>36</td>\n",
       "      <td>2</td>\n",
       "      <td>2</td>\n",
       "      <td>NaN</td>\n",
       "      <td>1038</td>\n",
       "      <td>167</td>\n",
       "    </tr>\n",
       "    <tr>\n",
       "      <th>top</th>\n",
       "      <td>HERNANDEZ,  JUAN C</td>\n",
       "      <td>POLICE OFFICER</td>\n",
       "      <td>POLICE</td>\n",
       "      <td>F</td>\n",
       "      <td>Salary</td>\n",
       "      <td>NaN</td>\n",
       "      <td>$90,024.00</td>\n",
       "      <td>$35.60</td>\n",
       "    </tr>\n",
       "    <tr>\n",
       "      <th>freq</th>\n",
       "      <td>5</td>\n",
       "      <td>9393</td>\n",
       "      <td>12973</td>\n",
       "      <td>30676</td>\n",
       "      <td>24775</td>\n",
       "      <td>NaN</td>\n",
       "      <td>2368</td>\n",
       "      <td>1404</td>\n",
       "    </tr>\n",
       "    <tr>\n",
       "      <th>mean</th>\n",
       "      <td>NaN</td>\n",
       "      <td>NaN</td>\n",
       "      <td>NaN</td>\n",
       "      <td>NaN</td>\n",
       "      <td>NaN</td>\n",
       "      <td>34.698719</td>\n",
       "      <td>NaN</td>\n",
       "      <td>NaN</td>\n",
       "    </tr>\n",
       "    <tr>\n",
       "      <th>std</th>\n",
       "      <td>NaN</td>\n",
       "      <td>NaN</td>\n",
       "      <td>NaN</td>\n",
       "      <td>NaN</td>\n",
       "      <td>NaN</td>\n",
       "      <td>9.145553</td>\n",
       "      <td>NaN</td>\n",
       "      <td>NaN</td>\n",
       "    </tr>\n",
       "    <tr>\n",
       "      <th>min</th>\n",
       "      <td>NaN</td>\n",
       "      <td>NaN</td>\n",
       "      <td>NaN</td>\n",
       "      <td>NaN</td>\n",
       "      <td>NaN</td>\n",
       "      <td>10.000000</td>\n",
       "      <td>NaN</td>\n",
       "      <td>NaN</td>\n",
       "    </tr>\n",
       "    <tr>\n",
       "      <th>25%</th>\n",
       "      <td>NaN</td>\n",
       "      <td>NaN</td>\n",
       "      <td>NaN</td>\n",
       "      <td>NaN</td>\n",
       "      <td>NaN</td>\n",
       "      <td>20.000000</td>\n",
       "      <td>NaN</td>\n",
       "      <td>NaN</td>\n",
       "    </tr>\n",
       "    <tr>\n",
       "      <th>50%</th>\n",
       "      <td>NaN</td>\n",
       "      <td>NaN</td>\n",
       "      <td>NaN</td>\n",
       "      <td>NaN</td>\n",
       "      <td>NaN</td>\n",
       "      <td>40.000000</td>\n",
       "      <td>NaN</td>\n",
       "      <td>NaN</td>\n",
       "    </tr>\n",
       "    <tr>\n",
       "      <th>75%</th>\n",
       "      <td>NaN</td>\n",
       "      <td>NaN</td>\n",
       "      <td>NaN</td>\n",
       "      <td>NaN</td>\n",
       "      <td>NaN</td>\n",
       "      <td>40.000000</td>\n",
       "      <td>NaN</td>\n",
       "      <td>NaN</td>\n",
       "    </tr>\n",
       "    <tr>\n",
       "      <th>max</th>\n",
       "      <td>NaN</td>\n",
       "      <td>NaN</td>\n",
       "      <td>NaN</td>\n",
       "      <td>NaN</td>\n",
       "      <td>NaN</td>\n",
       "      <td>40.000000</td>\n",
       "      <td>NaN</td>\n",
       "      <td>NaN</td>\n",
       "    </tr>\n",
       "  </tbody>\n",
       "</table>\n",
       "</div>"
      ],
      "text/plain": [
       "                      Name      Job Titles Department Full or Part-Time  \\\n",
       "count                32658           32658      32658             32658   \n",
       "unique               32350            1095         36                 2   \n",
       "top     HERNANDEZ,  JUAN C  POLICE OFFICER     POLICE                 F   \n",
       "freq                     5            9393      12973             30676   \n",
       "mean                   NaN             NaN        NaN               NaN   \n",
       "std                    NaN             NaN        NaN               NaN   \n",
       "min                    NaN             NaN        NaN               NaN   \n",
       "25%                    NaN             NaN        NaN               NaN   \n",
       "50%                    NaN             NaN        NaN               NaN   \n",
       "75%                    NaN             NaN        NaN               NaN   \n",
       "max                    NaN             NaN        NaN               NaN   \n",
       "\n",
       "       Salary or Hourly  Typical Hours Annual Salary Hourly Rate  \n",
       "count             32658    7883.000000         24775        7883  \n",
       "unique                2            NaN          1038         167  \n",
       "top              Salary            NaN   $90,024.00      $35.60   \n",
       "freq              24775            NaN          2368        1404  \n",
       "mean                NaN      34.698719           NaN         NaN  \n",
       "std                 NaN       9.145553           NaN         NaN  \n",
       "min                 NaN      10.000000           NaN         NaN  \n",
       "25%                 NaN      20.000000           NaN         NaN  \n",
       "50%                 NaN      40.000000           NaN         NaN  \n",
       "75%                 NaN      40.000000           NaN         NaN  \n",
       "max                 NaN      40.000000           NaN         NaN  "
      ]
     },
     "execution_count": 242,
     "metadata": {},
     "output_type": "execute_result"
    }
   ],
   "source": [
    "dataframe.describe(include=\"all\")"
   ]
  },
  {
   "cell_type": "code",
   "execution_count": null,
   "id": "268c0eb4-4ab7-49f0-acf0-c150b4a05e6b",
   "metadata": {},
   "outputs": [],
   "source": []
  },
  {
   "cell_type": "markdown",
   "id": "5c66ef4e-0afe-4b0b-8c3e-61306e7e4967",
   "metadata": {},
   "source": [
    "***Find the maximum, minimum, and average values of the ‘Typical Hours’ column.***"
   ]
  },
  {
   "cell_type": "code",
   "execution_count": 243,
   "id": "3994edd3-a6bf-4e2a-b0d7-233b5a914b2d",
   "metadata": {},
   "outputs": [
    {
     "data": {
      "text/plain": [
       "np.float64(10.0)"
      ]
     },
     "execution_count": 243,
     "metadata": {},
     "output_type": "execute_result"
    }
   ],
   "source": [
    "dataframe[\"Typical Hours\"].min()"
   ]
  },
  {
   "cell_type": "code",
   "execution_count": 244,
   "id": "a60e2410-b063-4c19-a931-09369c7cb7f9",
   "metadata": {},
   "outputs": [
    {
     "data": {
      "text/plain": [
       "np.float64(40.0)"
      ]
     },
     "execution_count": 244,
     "metadata": {},
     "output_type": "execute_result"
    }
   ],
   "source": [
    "dataframe[\"Typical Hours\"].max()"
   ]
  },
  {
   "cell_type": "code",
   "execution_count": 245,
   "id": "9283fb04-00cd-4ba1-95cd-b66e47c0d92a",
   "metadata": {},
   "outputs": [
    {
     "data": {
      "text/plain": [
       "np.float64(34.69871876189268)"
      ]
     },
     "execution_count": 245,
     "metadata": {},
     "output_type": "execute_result"
    }
   ],
   "source": [
    "dataframe[\"Typical Hours\"].mean()"
   ]
  },
  {
   "cell_type": "code",
   "execution_count": null,
   "id": "8ffe11a2-6795-4dd3-80d6-02bebf8c76b6",
   "metadata": {},
   "outputs": [],
   "source": []
  },
  {
   "cell_type": "markdown",
   "id": "30ad91a3-543a-477d-bc99-b1e5948e4736",
   "metadata": {},
   "source": [
    "***How many employees are salaried and how many are paid hourly?***"
   ]
  },
  {
   "cell_type": "code",
   "execution_count": 246,
   "id": "548a262b-16f2-48d5-837c-911d9fd0bd13",
   "metadata": {},
   "outputs": [
    {
     "data": {
      "text/plain": [
       "0        Salary\n",
       "1        Salary\n",
       "2        Salary\n",
       "3        Salary\n",
       "4        Salary\n",
       "          ...  \n",
       "32653    Salary\n",
       "32654    Salary\n",
       "32655    Salary\n",
       "32656    Salary\n",
       "32657    Salary\n",
       "Name: Salary or Hourly, Length: 32658, dtype: object"
      ]
     },
     "execution_count": 246,
     "metadata": {},
     "output_type": "execute_result"
    }
   ],
   "source": [
    "dataframe[\"Salary or Hourly\"]"
   ]
  },
  {
   "cell_type": "code",
   "execution_count": 247,
   "id": "d08cf669-3a78-48ae-a1b7-b02275f627ab",
   "metadata": {},
   "outputs": [
    {
     "data": {
      "text/html": [
       "<div>\n",
       "<style scoped>\n",
       "    .dataframe tbody tr th:only-of-type {\n",
       "        vertical-align: middle;\n",
       "    }\n",
       "\n",
       "    .dataframe tbody tr th {\n",
       "        vertical-align: top;\n",
       "    }\n",
       "\n",
       "    .dataframe thead th {\n",
       "        text-align: right;\n",
       "    }\n",
       "</style>\n",
       "<table border=\"1\" class=\"dataframe\">\n",
       "  <thead>\n",
       "    <tr style=\"text-align: right;\">\n",
       "      <th></th>\n",
       "      <th>Salary or Hourly</th>\n",
       "    </tr>\n",
       "  </thead>\n",
       "  <tbody>\n",
       "    <tr>\n",
       "      <th>0</th>\n",
       "      <td>Salary</td>\n",
       "    </tr>\n",
       "    <tr>\n",
       "      <th>1</th>\n",
       "      <td>Salary</td>\n",
       "    </tr>\n",
       "    <tr>\n",
       "      <th>2</th>\n",
       "      <td>Salary</td>\n",
       "    </tr>\n",
       "    <tr>\n",
       "      <th>3</th>\n",
       "      <td>Salary</td>\n",
       "    </tr>\n",
       "    <tr>\n",
       "      <th>4</th>\n",
       "      <td>Salary</td>\n",
       "    </tr>\n",
       "    <tr>\n",
       "      <th>...</th>\n",
       "      <td>...</td>\n",
       "    </tr>\n",
       "    <tr>\n",
       "      <th>32653</th>\n",
       "      <td>Salary</td>\n",
       "    </tr>\n",
       "    <tr>\n",
       "      <th>32654</th>\n",
       "      <td>Salary</td>\n",
       "    </tr>\n",
       "    <tr>\n",
       "      <th>32655</th>\n",
       "      <td>Salary</td>\n",
       "    </tr>\n",
       "    <tr>\n",
       "      <th>32656</th>\n",
       "      <td>Salary</td>\n",
       "    </tr>\n",
       "    <tr>\n",
       "      <th>32657</th>\n",
       "      <td>Salary</td>\n",
       "    </tr>\n",
       "  </tbody>\n",
       "</table>\n",
       "<p>32658 rows × 1 columns</p>\n",
       "</div>"
      ],
      "text/plain": [
       "      Salary or Hourly\n",
       "0               Salary\n",
       "1               Salary\n",
       "2               Salary\n",
       "3               Salary\n",
       "4               Salary\n",
       "...                ...\n",
       "32653           Salary\n",
       "32654           Salary\n",
       "32655           Salary\n",
       "32656           Salary\n",
       "32657           Salary\n",
       "\n",
       "[32658 rows x 1 columns]"
      ]
     },
     "execution_count": 247,
     "metadata": {},
     "output_type": "execute_result"
    }
   ],
   "source": [
    "dataframe[[\"Salary or Hourly\"]]"
   ]
  },
  {
   "cell_type": "code",
   "execution_count": 248,
   "id": "7f5d46f8-9e3d-403b-a6c2-911a7c9c8295",
   "metadata": {},
   "outputs": [
    {
     "data": {
      "text/plain": [
       "Salary or Hourly\n",
       "Hourly     7883\n",
       "Salary    24775\n",
       "Name: Name, dtype: int64"
      ]
     },
     "execution_count": 248,
     "metadata": {},
     "output_type": "execute_result"
    }
   ],
   "source": [
    "dataframe.groupby(\"Salary or Hourly\").count()[\"Name\"]"
   ]
  },
  {
   "cell_type": "code",
   "execution_count": null,
   "id": "f43ef833-b602-463e-9a6f-b97d3bc6795e",
   "metadata": {},
   "outputs": [],
   "source": []
  },
  {
   "cell_type": "markdown",
   "id": "e2bfd93f-a441-4af2-b629-166cc2ce24b1",
   "metadata": {},
   "source": [
    "***Which department has the highest number of employees?***"
   ]
  },
  {
   "cell_type": "code",
   "execution_count": 249,
   "id": "71f02a35-39df-4a20-ab17-e1f7472c3fc4",
   "metadata": {},
   "outputs": [
    {
     "data": {
      "text/plain": [
       "Department\n",
       "POLICE    12973\n",
       "Name: Name, dtype: int64"
      ]
     },
     "execution_count": 249,
     "metadata": {},
     "output_type": "execute_result"
    }
   ],
   "source": [
    "dataframe.groupby(\"Department\").count()[\"Name\"].sort_values(ascending=False).head(1)"
   ]
  },
  {
   "cell_type": "code",
   "execution_count": 250,
   "id": "23b69a3c-3849-4a37-ac4a-9b844521448b",
   "metadata": {},
   "outputs": [
    {
     "data": {
      "text/plain": [
       "'POLICE'"
      ]
     },
     "execution_count": 250,
     "metadata": {},
     "output_type": "execute_result"
    }
   ],
   "source": [
    "dataframe.groupby(\"Department\").count()[\"Name\"].idxmax()"
   ]
  },
  {
   "cell_type": "code",
   "execution_count": 251,
   "id": "5a210cce-b69a-4c1c-94ea-7da566e75828",
   "metadata": {},
   "outputs": [
    {
     "data": {
      "text/plain": [
       "Department\n",
       "POLICE    12973\n",
       "Name: count, dtype: int64"
      ]
     },
     "execution_count": 251,
     "metadata": {},
     "output_type": "execute_result"
    }
   ],
   "source": [
    "dataframe[\"Department\"].value_counts().head(1)"
   ]
  },
  {
   "cell_type": "code",
   "execution_count": null,
   "id": "78489bc2-f6d3-4697-ae7d-e17cdc0c028d",
   "metadata": {},
   "outputs": [],
   "source": []
  },
  {
   "cell_type": "markdown",
   "id": "93d9960f-5f23-4c58-8e8d-28c0ed0c2b1c",
   "metadata": {},
   "source": [
    "***In the Police department, how many employees are salaried and how many are hourly?***"
   ]
  },
  {
   "cell_type": "code",
   "execution_count": 252,
   "id": "9beda2e0-9872-432f-bd71-1ef251f9f0ae",
   "metadata": {},
   "outputs": [
    {
     "data": {
      "text/plain": [
       "0        False\n",
       "1         True\n",
       "2        False\n",
       "3        False\n",
       "4         True\n",
       "         ...  \n",
       "32653     True\n",
       "32654     True\n",
       "32655     True\n",
       "32656     True\n",
       "32657    False\n",
       "Name: Department, Length: 32658, dtype: bool"
      ]
     },
     "execution_count": 252,
     "metadata": {},
     "output_type": "execute_result"
    }
   ],
   "source": [
    "dataframe[\"Department\"] == \"POLICE\""
   ]
  },
  {
   "cell_type": "code",
   "execution_count": 253,
   "id": "a319d0f6-fd26-472e-84c3-306a0f3b06e2",
   "metadata": {},
   "outputs": [
    {
     "data": {
      "text/html": [
       "<div>\n",
       "<style scoped>\n",
       "    .dataframe tbody tr th:only-of-type {\n",
       "        vertical-align: middle;\n",
       "    }\n",
       "\n",
       "    .dataframe tbody tr th {\n",
       "        vertical-align: top;\n",
       "    }\n",
       "\n",
       "    .dataframe thead th {\n",
       "        text-align: right;\n",
       "    }\n",
       "</style>\n",
       "<table border=\"1\" class=\"dataframe\">\n",
       "  <thead>\n",
       "    <tr style=\"text-align: right;\">\n",
       "      <th></th>\n",
       "      <th>Name</th>\n",
       "      <th>Job Titles</th>\n",
       "      <th>Department</th>\n",
       "      <th>Full or Part-Time</th>\n",
       "      <th>Salary or Hourly</th>\n",
       "      <th>Typical Hours</th>\n",
       "      <th>Annual Salary</th>\n",
       "      <th>Hourly Rate</th>\n",
       "    </tr>\n",
       "  </thead>\n",
       "  <tbody>\n",
       "    <tr>\n",
       "      <th>1</th>\n",
       "      <td>BRUNO,  KEVIN D</td>\n",
       "      <td>SERGEANT</td>\n",
       "      <td>POLICE</td>\n",
       "      <td>F</td>\n",
       "      <td>Salary</td>\n",
       "      <td>NaN</td>\n",
       "      <td>$104,628.00</td>\n",
       "      <td>NaN</td>\n",
       "    </tr>\n",
       "    <tr>\n",
       "      <th>4</th>\n",
       "      <td>DOLAN,  ROBERT J</td>\n",
       "      <td>SERGEANT</td>\n",
       "      <td>POLICE</td>\n",
       "      <td>F</td>\n",
       "      <td>Salary</td>\n",
       "      <td>NaN</td>\n",
       "      <td>$111,474.00</td>\n",
       "      <td>NaN</td>\n",
       "    </tr>\n",
       "    <tr>\n",
       "      <th>7</th>\n",
       "      <td>ELKINS,  ERIC J</td>\n",
       "      <td>SERGEANT</td>\n",
       "      <td>POLICE</td>\n",
       "      <td>F</td>\n",
       "      <td>Salary</td>\n",
       "      <td>NaN</td>\n",
       "      <td>$104,628.00</td>\n",
       "      <td>NaN</td>\n",
       "    </tr>\n",
       "    <tr>\n",
       "      <th>8</th>\n",
       "      <td>ESTRADA,  LUIS F</td>\n",
       "      <td>POLICE OFFICER</td>\n",
       "      <td>POLICE</td>\n",
       "      <td>F</td>\n",
       "      <td>Salary</td>\n",
       "      <td>NaN</td>\n",
       "      <td>$96,060.00</td>\n",
       "      <td>NaN</td>\n",
       "    </tr>\n",
       "    <tr>\n",
       "      <th>9</th>\n",
       "      <td>EWING,  MARIE A</td>\n",
       "      <td>CLERK III</td>\n",
       "      <td>POLICE</td>\n",
       "      <td>F</td>\n",
       "      <td>Salary</td>\n",
       "      <td>NaN</td>\n",
       "      <td>$53,076.00</td>\n",
       "      <td>NaN</td>\n",
       "    </tr>\n",
       "    <tr>\n",
       "      <th>...</th>\n",
       "      <td>...</td>\n",
       "      <td>...</td>\n",
       "      <td>...</td>\n",
       "      <td>...</td>\n",
       "      <td>...</td>\n",
       "      <td>...</td>\n",
       "      <td>...</td>\n",
       "      <td>...</td>\n",
       "    </tr>\n",
       "    <tr>\n",
       "      <th>32652</th>\n",
       "      <td>ZYGMUNT,  DAWID</td>\n",
       "      <td>POLICE OFFICER</td>\n",
       "      <td>POLICE</td>\n",
       "      <td>F</td>\n",
       "      <td>Salary</td>\n",
       "      <td>NaN</td>\n",
       "      <td>$48,078.00</td>\n",
       "      <td>NaN</td>\n",
       "    </tr>\n",
       "    <tr>\n",
       "      <th>32653</th>\n",
       "      <td>ZYGOWICZ,  PETER J</td>\n",
       "      <td>POLICE OFFICER</td>\n",
       "      <td>POLICE</td>\n",
       "      <td>F</td>\n",
       "      <td>Salary</td>\n",
       "      <td>NaN</td>\n",
       "      <td>$90,024.00</td>\n",
       "      <td>NaN</td>\n",
       "    </tr>\n",
       "    <tr>\n",
       "      <th>32654</th>\n",
       "      <td>ZYLINSKA,  KATARZYNA</td>\n",
       "      <td>POLICE OFFICER</td>\n",
       "      <td>POLICE</td>\n",
       "      <td>F</td>\n",
       "      <td>Salary</td>\n",
       "      <td>NaN</td>\n",
       "      <td>$48,078.00</td>\n",
       "      <td>NaN</td>\n",
       "    </tr>\n",
       "    <tr>\n",
       "      <th>32655</th>\n",
       "      <td>ZYMANTAS,  MARK E</td>\n",
       "      <td>POLICE OFFICER</td>\n",
       "      <td>POLICE</td>\n",
       "      <td>F</td>\n",
       "      <td>Salary</td>\n",
       "      <td>NaN</td>\n",
       "      <td>$87,006.00</td>\n",
       "      <td>NaN</td>\n",
       "    </tr>\n",
       "    <tr>\n",
       "      <th>32656</th>\n",
       "      <td>ZYRKOWSKI,  CARLO E</td>\n",
       "      <td>POLICE OFFICER</td>\n",
       "      <td>POLICE</td>\n",
       "      <td>F</td>\n",
       "      <td>Salary</td>\n",
       "      <td>NaN</td>\n",
       "      <td>$93,354.00</td>\n",
       "      <td>NaN</td>\n",
       "    </tr>\n",
       "  </tbody>\n",
       "</table>\n",
       "<p>12973 rows × 8 columns</p>\n",
       "</div>"
      ],
      "text/plain": [
       "                        Name      Job Titles Department Full or Part-Time  \\\n",
       "1            BRUNO,  KEVIN D        SERGEANT     POLICE                 F   \n",
       "4           DOLAN,  ROBERT J        SERGEANT     POLICE                 F   \n",
       "7            ELKINS,  ERIC J        SERGEANT     POLICE                 F   \n",
       "8           ESTRADA,  LUIS F  POLICE OFFICER     POLICE                 F   \n",
       "9            EWING,  MARIE A       CLERK III     POLICE                 F   \n",
       "...                      ...             ...        ...               ...   \n",
       "32652       ZYGMUNT,  DAWID   POLICE OFFICER     POLICE                 F   \n",
       "32653     ZYGOWICZ,  PETER J  POLICE OFFICER     POLICE                 F   \n",
       "32654  ZYLINSKA,  KATARZYNA   POLICE OFFICER     POLICE                 F   \n",
       "32655      ZYMANTAS,  MARK E  POLICE OFFICER     POLICE                 F   \n",
       "32656    ZYRKOWSKI,  CARLO E  POLICE OFFICER     POLICE                 F   \n",
       "\n",
       "      Salary or Hourly  Typical Hours Annual Salary Hourly Rate  \n",
       "1               Salary            NaN  $104,628.00          NaN  \n",
       "4               Salary            NaN  $111,474.00          NaN  \n",
       "7               Salary            NaN  $104,628.00          NaN  \n",
       "8               Salary            NaN   $96,060.00          NaN  \n",
       "9               Salary            NaN   $53,076.00          NaN  \n",
       "...                ...            ...           ...         ...  \n",
       "32652           Salary            NaN   $48,078.00          NaN  \n",
       "32653           Salary            NaN   $90,024.00          NaN  \n",
       "32654           Salary            NaN   $48,078.00          NaN  \n",
       "32655           Salary            NaN   $87,006.00          NaN  \n",
       "32656           Salary            NaN   $93,354.00          NaN  \n",
       "\n",
       "[12973 rows x 8 columns]"
      ]
     },
     "execution_count": 253,
     "metadata": {},
     "output_type": "execute_result"
    }
   ],
   "source": [
    "police_dataframe = dataframe[dataframe[\"Department\"] == \"POLICE\"]\n",
    "police_dataframe"
   ]
  },
  {
   "cell_type": "code",
   "execution_count": 254,
   "id": "930b6143-9fb2-4dc2-b63a-f34ddb75a375",
   "metadata": {},
   "outputs": [
    {
     "data": {
      "text/plain": [
       "Salary or Hourly\n",
       "Hourly       32\n",
       "Salary    12941\n",
       "Name: Name, dtype: int64"
      ]
     },
     "execution_count": 254,
     "metadata": {},
     "output_type": "execute_result"
    }
   ],
   "source": [
    "police_dataframe.groupby(\"Salary or Hourly\").count()[\"Name\"]"
   ]
  },
  {
   "cell_type": "code",
   "execution_count": 255,
   "id": "a0095325-5a32-413c-87fe-facfe872165b",
   "metadata": {},
   "outputs": [
    {
     "data": {
      "text/plain": [
       "Salary or Hourly\n",
       "Salary    12941\n",
       "Hourly       32\n",
       "Name: count, dtype: int64"
      ]
     },
     "execution_count": 255,
     "metadata": {},
     "output_type": "execute_result"
    }
   ],
   "source": [
    "police_dataframe[\"Salary or Hourly\"].value_counts()"
   ]
  },
  {
   "cell_type": "code",
   "execution_count": null,
   "id": "d43904b4-9db5-43ff-86e7-b02b25fc3c8c",
   "metadata": {},
   "outputs": [],
   "source": []
  },
  {
   "cell_type": "markdown",
   "id": "24d1535f-8868-46d6-a480-0473399b8a97",
   "metadata": {},
   "source": [
    "***Find the mean, maximum, and minimum salaries.***"
   ]
  },
  {
   "cell_type": "code",
   "execution_count": 256,
   "id": "3f3a0ef7-459e-43b3-a617-1adcc4bae0c4",
   "metadata": {},
   "outputs": [
    {
     "data": {
      "text/html": [
       "<div>\n",
       "<style scoped>\n",
       "    .dataframe tbody tr th:only-of-type {\n",
       "        vertical-align: middle;\n",
       "    }\n",
       "\n",
       "    .dataframe tbody tr th {\n",
       "        vertical-align: top;\n",
       "    }\n",
       "\n",
       "    .dataframe thead th {\n",
       "        text-align: right;\n",
       "    }\n",
       "</style>\n",
       "<table border=\"1\" class=\"dataframe\">\n",
       "  <thead>\n",
       "    <tr style=\"text-align: right;\">\n",
       "      <th></th>\n",
       "      <th>Name</th>\n",
       "      <th>Job Titles</th>\n",
       "      <th>Department</th>\n",
       "      <th>Full or Part-Time</th>\n",
       "      <th>Salary or Hourly</th>\n",
       "      <th>Typical Hours</th>\n",
       "      <th>Annual Salary</th>\n",
       "      <th>Hourly Rate</th>\n",
       "    </tr>\n",
       "  </thead>\n",
       "  <tbody>\n",
       "    <tr>\n",
       "      <th>0</th>\n",
       "      <td>ALLISON,  PAUL W</td>\n",
       "      <td>LIEUTENANT</td>\n",
       "      <td>FIRE</td>\n",
       "      <td>F</td>\n",
       "      <td>Salary</td>\n",
       "      <td>NaN</td>\n",
       "      <td>$107,790.00</td>\n",
       "      <td>NaN</td>\n",
       "    </tr>\n",
       "    <tr>\n",
       "      <th>1</th>\n",
       "      <td>BRUNO,  KEVIN D</td>\n",
       "      <td>SERGEANT</td>\n",
       "      <td>POLICE</td>\n",
       "      <td>F</td>\n",
       "      <td>Salary</td>\n",
       "      <td>NaN</td>\n",
       "      <td>$104,628.00</td>\n",
       "      <td>NaN</td>\n",
       "    </tr>\n",
       "    <tr>\n",
       "      <th>2</th>\n",
       "      <td>COOPER,  JOHN E</td>\n",
       "      <td>LIEUTENANT-EMT</td>\n",
       "      <td>FIRE</td>\n",
       "      <td>F</td>\n",
       "      <td>Salary</td>\n",
       "      <td>NaN</td>\n",
       "      <td>$114,324.00</td>\n",
       "      <td>NaN</td>\n",
       "    </tr>\n",
       "    <tr>\n",
       "      <th>3</th>\n",
       "      <td>CRESPO,  VILMA I</td>\n",
       "      <td>STAFF ASST</td>\n",
       "      <td>LAW</td>\n",
       "      <td>F</td>\n",
       "      <td>Salary</td>\n",
       "      <td>NaN</td>\n",
       "      <td>$76,932.00</td>\n",
       "      <td>NaN</td>\n",
       "    </tr>\n",
       "    <tr>\n",
       "      <th>4</th>\n",
       "      <td>DOLAN,  ROBERT J</td>\n",
       "      <td>SERGEANT</td>\n",
       "      <td>POLICE</td>\n",
       "      <td>F</td>\n",
       "      <td>Salary</td>\n",
       "      <td>NaN</td>\n",
       "      <td>$111,474.00</td>\n",
       "      <td>NaN</td>\n",
       "    </tr>\n",
       "    <tr>\n",
       "      <th>...</th>\n",
       "      <td>...</td>\n",
       "      <td>...</td>\n",
       "      <td>...</td>\n",
       "      <td>...</td>\n",
       "      <td>...</td>\n",
       "      <td>...</td>\n",
       "      <td>...</td>\n",
       "      <td>...</td>\n",
       "    </tr>\n",
       "    <tr>\n",
       "      <th>32653</th>\n",
       "      <td>ZYGOWICZ,  PETER J</td>\n",
       "      <td>POLICE OFFICER</td>\n",
       "      <td>POLICE</td>\n",
       "      <td>F</td>\n",
       "      <td>Salary</td>\n",
       "      <td>NaN</td>\n",
       "      <td>$90,024.00</td>\n",
       "      <td>NaN</td>\n",
       "    </tr>\n",
       "    <tr>\n",
       "      <th>32654</th>\n",
       "      <td>ZYLINSKA,  KATARZYNA</td>\n",
       "      <td>POLICE OFFICER</td>\n",
       "      <td>POLICE</td>\n",
       "      <td>F</td>\n",
       "      <td>Salary</td>\n",
       "      <td>NaN</td>\n",
       "      <td>$48,078.00</td>\n",
       "      <td>NaN</td>\n",
       "    </tr>\n",
       "    <tr>\n",
       "      <th>32655</th>\n",
       "      <td>ZYMANTAS,  MARK E</td>\n",
       "      <td>POLICE OFFICER</td>\n",
       "      <td>POLICE</td>\n",
       "      <td>F</td>\n",
       "      <td>Salary</td>\n",
       "      <td>NaN</td>\n",
       "      <td>$87,006.00</td>\n",
       "      <td>NaN</td>\n",
       "    </tr>\n",
       "    <tr>\n",
       "      <th>32656</th>\n",
       "      <td>ZYRKOWSKI,  CARLO E</td>\n",
       "      <td>POLICE OFFICER</td>\n",
       "      <td>POLICE</td>\n",
       "      <td>F</td>\n",
       "      <td>Salary</td>\n",
       "      <td>NaN</td>\n",
       "      <td>$93,354.00</td>\n",
       "      <td>NaN</td>\n",
       "    </tr>\n",
       "    <tr>\n",
       "      <th>32657</th>\n",
       "      <td>ZYSKOWSKI,  DARIUSZ</td>\n",
       "      <td>CHIEF DATA BASE ANALYST</td>\n",
       "      <td>DoIT</td>\n",
       "      <td>F</td>\n",
       "      <td>Salary</td>\n",
       "      <td>NaN</td>\n",
       "      <td>$115,932.00</td>\n",
       "      <td>NaN</td>\n",
       "    </tr>\n",
       "  </tbody>\n",
       "</table>\n",
       "<p>32658 rows × 8 columns</p>\n",
       "</div>"
      ],
      "text/plain": [
       "                        Name               Job Titles Department  \\\n",
       "0           ALLISON,  PAUL W               LIEUTENANT       FIRE   \n",
       "1            BRUNO,  KEVIN D                 SERGEANT     POLICE   \n",
       "2            COOPER,  JOHN E           LIEUTENANT-EMT       FIRE   \n",
       "3           CRESPO,  VILMA I               STAFF ASST        LAW   \n",
       "4           DOLAN,  ROBERT J                 SERGEANT     POLICE   \n",
       "...                      ...                      ...        ...   \n",
       "32653     ZYGOWICZ,  PETER J           POLICE OFFICER     POLICE   \n",
       "32654  ZYLINSKA,  KATARZYNA            POLICE OFFICER     POLICE   \n",
       "32655      ZYMANTAS,  MARK E           POLICE OFFICER     POLICE   \n",
       "32656    ZYRKOWSKI,  CARLO E           POLICE OFFICER     POLICE   \n",
       "32657   ZYSKOWSKI,  DARIUSZ   CHIEF DATA BASE ANALYST       DoIT   \n",
       "\n",
       "      Full or Part-Time Salary or Hourly  Typical Hours Annual Salary  \\\n",
       "0                     F           Salary            NaN  $107,790.00    \n",
       "1                     F           Salary            NaN  $104,628.00    \n",
       "2                     F           Salary            NaN  $114,324.00    \n",
       "3                     F           Salary            NaN   $76,932.00    \n",
       "4                     F           Salary            NaN  $111,474.00    \n",
       "...                 ...              ...            ...           ...   \n",
       "32653                 F           Salary            NaN   $90,024.00    \n",
       "32654                 F           Salary            NaN   $48,078.00    \n",
       "32655                 F           Salary            NaN   $87,006.00    \n",
       "32656                 F           Salary            NaN   $93,354.00    \n",
       "32657                 F           Salary            NaN  $115,932.00    \n",
       "\n",
       "      Hourly Rate  \n",
       "0             NaN  \n",
       "1             NaN  \n",
       "2             NaN  \n",
       "3             NaN  \n",
       "4             NaN  \n",
       "...           ...  \n",
       "32653         NaN  \n",
       "32654         NaN  \n",
       "32655         NaN  \n",
       "32656         NaN  \n",
       "32657         NaN  \n",
       "\n",
       "[32658 rows x 8 columns]"
      ]
     },
     "execution_count": 256,
     "metadata": {},
     "output_type": "execute_result"
    }
   ],
   "source": [
    "dataframe"
   ]
  },
  {
   "cell_type": "code",
   "execution_count": 257,
   "id": "3faff432-46c7-4607-b2fd-9266e611a8e7",
   "metadata": {},
   "outputs": [
    {
     "data": {
      "text/html": [
       "<div>\n",
       "<style scoped>\n",
       "    .dataframe tbody tr th:only-of-type {\n",
       "        vertical-align: middle;\n",
       "    }\n",
       "\n",
       "    .dataframe tbody tr th {\n",
       "        vertical-align: top;\n",
       "    }\n",
       "\n",
       "    .dataframe thead th {\n",
       "        text-align: right;\n",
       "    }\n",
       "</style>\n",
       "<table border=\"1\" class=\"dataframe\">\n",
       "  <thead>\n",
       "    <tr style=\"text-align: right;\">\n",
       "      <th></th>\n",
       "      <th>Salaries</th>\n",
       "    </tr>\n",
       "  </thead>\n",
       "  <tbody>\n",
       "    <tr>\n",
       "      <th>0</th>\n",
       "      <td>107790.0</td>\n",
       "    </tr>\n",
       "    <tr>\n",
       "      <th>1</th>\n",
       "      <td>104628.0</td>\n",
       "    </tr>\n",
       "    <tr>\n",
       "      <th>2</th>\n",
       "      <td>114324.0</td>\n",
       "    </tr>\n",
       "    <tr>\n",
       "      <th>3</th>\n",
       "      <td>76932.0</td>\n",
       "    </tr>\n",
       "    <tr>\n",
       "      <th>4</th>\n",
       "      <td>111474.0</td>\n",
       "    </tr>\n",
       "    <tr>\n",
       "      <th>...</th>\n",
       "      <td>...</td>\n",
       "    </tr>\n",
       "    <tr>\n",
       "      <th>32653</th>\n",
       "      <td>90024.0</td>\n",
       "    </tr>\n",
       "    <tr>\n",
       "      <th>32654</th>\n",
       "      <td>48078.0</td>\n",
       "    </tr>\n",
       "    <tr>\n",
       "      <th>32655</th>\n",
       "      <td>87006.0</td>\n",
       "    </tr>\n",
       "    <tr>\n",
       "      <th>32656</th>\n",
       "      <td>93354.0</td>\n",
       "    </tr>\n",
       "    <tr>\n",
       "      <th>32657</th>\n",
       "      <td>115932.0</td>\n",
       "    </tr>\n",
       "  </tbody>\n",
       "</table>\n",
       "<p>32658 rows × 1 columns</p>\n",
       "</div>"
      ],
      "text/plain": [
       "       Salaries\n",
       "0      107790.0\n",
       "1      104628.0\n",
       "2      114324.0\n",
       "3       76932.0\n",
       "4      111474.0\n",
       "...         ...\n",
       "32653   90024.0\n",
       "32654   48078.0\n",
       "32655   87006.0\n",
       "32656   93354.0\n",
       "32657  115932.0\n",
       "\n",
       "[32658 rows x 1 columns]"
      ]
     },
     "execution_count": 257,
     "metadata": {},
     "output_type": "execute_result"
    }
   ],
   "source": [
    "dataframe[\"Salaries\"] = dataframe[\"Annual Salary\"].str.replace(\"$\", \"\").str.replace(\",\", \"\").astype(float)\n",
    "dataframe[[\"Salaries\"]]"
   ]
  },
  {
   "cell_type": "code",
   "execution_count": 258,
   "id": "7ef0b6f6-fc62-427c-9098-4fbda1519639",
   "metadata": {},
   "outputs": [
    {
     "name": "stdout",
     "output_type": "stream",
     "text": [
      "Max Value:  300000.0\n",
      "Min Value:  0.96\n",
      "Avarge Value:  87512.78024137235\n"
     ]
    }
   ],
   "source": [
    "print(\"Max Value: \", dataframe[\"Salaries\"].max())\n",
    "print(\"Min Value: \", dataframe[\"Salaries\"].min())\n",
    "print(\"Avarge Value: \", dataframe[\"Salaries\"].mean())"
   ]
  },
  {
   "cell_type": "code",
   "execution_count": null,
   "id": "06efc2e2-455c-4110-a29a-a4a98465d2b2",
   "metadata": {},
   "outputs": [],
   "source": []
  },
  {
   "cell_type": "markdown",
   "id": "9cda439c-cdc7-45e6-88b9-00eefb8d37c4",
   "metadata": {},
   "source": [
    "***Find an employee who has the maximum salary.***"
   ]
  },
  {
   "cell_type": "code",
   "execution_count": 259,
   "id": "1bae8a33-048d-42cb-bc3e-aa24d7fbd662",
   "metadata": {},
   "outputs": [
    {
     "data": {
      "text/plain": [
       "0        107790.0\n",
       "1        104628.0\n",
       "2        114324.0\n",
       "3         76932.0\n",
       "4        111474.0\n",
       "           ...   \n",
       "32653     90024.0\n",
       "32654     48078.0\n",
       "32655     87006.0\n",
       "32656     93354.0\n",
       "32657    115932.0\n",
       "Name: Salaries, Length: 32658, dtype: float64"
      ]
     },
     "execution_count": 259,
     "metadata": {},
     "output_type": "execute_result"
    }
   ],
   "source": [
    "dataframe[\"Salaries\"]"
   ]
  },
  {
   "cell_type": "code",
   "execution_count": 260,
   "id": "1a0b7839-cc6c-47dd-90e5-7e503847e855",
   "metadata": {},
   "outputs": [
    {
     "data": {
      "text/html": [
       "<div>\n",
       "<style scoped>\n",
       "    .dataframe tbody tr th:only-of-type {\n",
       "        vertical-align: middle;\n",
       "    }\n",
       "\n",
       "    .dataframe tbody tr th {\n",
       "        vertical-align: top;\n",
       "    }\n",
       "\n",
       "    .dataframe thead th {\n",
       "        text-align: right;\n",
       "    }\n",
       "</style>\n",
       "<table border=\"1\" class=\"dataframe\">\n",
       "  <thead>\n",
       "    <tr style=\"text-align: right;\">\n",
       "      <th></th>\n",
       "      <th>Name</th>\n",
       "      <th>Job Titles</th>\n",
       "      <th>Department</th>\n",
       "      <th>Full or Part-Time</th>\n",
       "      <th>Salary or Hourly</th>\n",
       "      <th>Typical Hours</th>\n",
       "      <th>Annual Salary</th>\n",
       "      <th>Hourly Rate</th>\n",
       "      <th>Salaries</th>\n",
       "    </tr>\n",
       "  </thead>\n",
       "  <tbody>\n",
       "    <tr>\n",
       "      <th>8310</th>\n",
       "      <td>EVANS,  GINGER S</td>\n",
       "      <td>COMMISSIONER OF AVIATION</td>\n",
       "      <td>AVIATION</td>\n",
       "      <td>F</td>\n",
       "      <td>Salary</td>\n",
       "      <td>NaN</td>\n",
       "      <td>$300,000.00</td>\n",
       "      <td>NaN</td>\n",
       "      <td>300000.0</td>\n",
       "    </tr>\n",
       "  </tbody>\n",
       "</table>\n",
       "</div>"
      ],
      "text/plain": [
       "                  Name                Job Titles Department Full or Part-Time  \\\n",
       "8310  EVANS,  GINGER S  COMMISSIONER OF AVIATION   AVIATION                 F   \n",
       "\n",
       "     Salary or Hourly  Typical Hours Annual Salary Hourly Rate  Salaries  \n",
       "8310           Salary            NaN  $300,000.00          NaN  300000.0  "
      ]
     },
     "execution_count": 260,
     "metadata": {},
     "output_type": "execute_result"
    }
   ],
   "source": [
    "max_salary = dataframe[\"Salaries\"].max()\n",
    "dataframe[dataframe[\"Salaries\"] == max_salary]"
   ]
  },
  {
   "cell_type": "code",
   "execution_count": 261,
   "id": "0f5ff78b-1774-4d46-82cd-2545b1e57203",
   "metadata": {},
   "outputs": [
    {
     "data": {
      "text/plain": [
       "Name                         EVANS,  GINGER S\n",
       "Job Titles           COMMISSIONER OF AVIATION\n",
       "Department                           AVIATION\n",
       "Full or Part-Time                           F\n",
       "Salary or Hourly                       Salary\n",
       "Typical Hours                             NaN\n",
       "Annual Salary                    $300,000.00 \n",
       "Hourly Rate                               NaN\n",
       "Salaries                             300000.0\n",
       "Name: 8310, dtype: object"
      ]
     },
     "execution_count": 261,
     "metadata": {},
     "output_type": "execute_result"
    }
   ],
   "source": [
    "#Using idxmax\n",
    "dataframe.loc[dataframe[\"Salaries\"].idxmax()]"
   ]
  },
  {
   "cell_type": "code",
   "execution_count": null,
   "id": "8208eefd-11d3-436d-85b4-dc6fd4cbb3a3",
   "metadata": {},
   "outputs": [],
   "source": []
  },
  {
   "cell_type": "markdown",
   "id": "f53ea647-e3ef-48b8-bb1a-56de631ab472",
   "metadata": {},
   "source": [
    "***Find an employee who has the minimum salary.***"
   ]
  },
  {
   "cell_type": "code",
   "execution_count": 262,
   "id": "d393294b-00e1-44b7-a945-973f2a69dab7",
   "metadata": {},
   "outputs": [
    {
     "data": {
      "text/html": [
       "<div>\n",
       "<style scoped>\n",
       "    .dataframe tbody tr th:only-of-type {\n",
       "        vertical-align: middle;\n",
       "    }\n",
       "\n",
       "    .dataframe tbody tr th {\n",
       "        vertical-align: top;\n",
       "    }\n",
       "\n",
       "    .dataframe thead th {\n",
       "        text-align: right;\n",
       "    }\n",
       "</style>\n",
       "<table border=\"1\" class=\"dataframe\">\n",
       "  <thead>\n",
       "    <tr style=\"text-align: right;\">\n",
       "      <th></th>\n",
       "      <th>Name</th>\n",
       "      <th>Job Titles</th>\n",
       "      <th>Department</th>\n",
       "      <th>Full or Part-Time</th>\n",
       "      <th>Salary or Hourly</th>\n",
       "      <th>Typical Hours</th>\n",
       "      <th>Annual Salary</th>\n",
       "      <th>Hourly Rate</th>\n",
       "      <th>Salaries</th>\n",
       "    </tr>\n",
       "  </thead>\n",
       "  <tbody>\n",
       "    <tr>\n",
       "      <th>15387</th>\n",
       "      <td>KOCH,  STEVEN</td>\n",
       "      <td>ADMINISTRATIVE SECRETARY</td>\n",
       "      <td>MAYOR'S OFFICE</td>\n",
       "      <td>F</td>\n",
       "      <td>Salary</td>\n",
       "      <td>NaN</td>\n",
       "      <td>$0.96</td>\n",
       "      <td>NaN</td>\n",
       "      <td>0.96</td>\n",
       "    </tr>\n",
       "  </tbody>\n",
       "</table>\n",
       "</div>"
      ],
      "text/plain": [
       "                 Name                Job Titles      Department  \\\n",
       "15387  KOCH,  STEVEN   ADMINISTRATIVE SECRETARY  MAYOR'S OFFICE   \n",
       "\n",
       "      Full or Part-Time Salary or Hourly  Typical Hours Annual Salary  \\\n",
       "15387                 F           Salary            NaN        $0.96    \n",
       "\n",
       "      Hourly Rate  Salaries  \n",
       "15387         NaN      0.96  "
      ]
     },
     "execution_count": 262,
     "metadata": {},
     "output_type": "execute_result"
    }
   ],
   "source": [
    "min_salary = dataframe[\"Salaries\"].min()\n",
    "dataframe[dataframe[\"Salaries\"] == min_salary]"
   ]
  },
  {
   "cell_type": "code",
   "execution_count": 263,
   "id": "2eacbf97-d7a4-40ab-9ab2-27371a66267e",
   "metadata": {},
   "outputs": [
    {
     "data": {
      "text/plain": [
       "Name                           KOCH,  STEVEN \n",
       "Job Titles           ADMINISTRATIVE SECRETARY\n",
       "Department                     MAYOR'S OFFICE\n",
       "Full or Part-Time                           F\n",
       "Salary or Hourly                       Salary\n",
       "Typical Hours                             NaN\n",
       "Annual Salary                          $0.96 \n",
       "Hourly Rate                               NaN\n",
       "Salaries                                 0.96\n",
       "Name: 15387, dtype: object"
      ]
     },
     "execution_count": 263,
     "metadata": {},
     "output_type": "execute_result"
    }
   ],
   "source": [
    "#using idxmin()\n",
    "dataframe.loc[dataframe[\"Salaries\"].idxmin()]"
   ]
  },
  {
   "cell_type": "code",
   "execution_count": null,
   "id": "c3e1c497-c375-4a67-a3af-6399032ce286",
   "metadata": {},
   "outputs": [],
   "source": []
  },
  {
   "cell_type": "markdown",
   "id": "c92335a1-6b5c-48f8-ae4a-57bb5b0904f6",
   "metadata": {},
   "source": [
    "***What are the mean, max and min Hourly Rate?***"
   ]
  },
  {
   "cell_type": "code",
   "execution_count": 264,
   "id": "90a9a000-6d51-4547-a22a-e98e9505a083",
   "metadata": {},
   "outputs": [
    {
     "data": {
      "text/html": [
       "<div>\n",
       "<style scoped>\n",
       "    .dataframe tbody tr th:only-of-type {\n",
       "        vertical-align: middle;\n",
       "    }\n",
       "\n",
       "    .dataframe tbody tr th {\n",
       "        vertical-align: top;\n",
       "    }\n",
       "\n",
       "    .dataframe thead th {\n",
       "        text-align: right;\n",
       "    }\n",
       "</style>\n",
       "<table border=\"1\" class=\"dataframe\">\n",
       "  <thead>\n",
       "    <tr style=\"text-align: right;\">\n",
       "      <th></th>\n",
       "      <th>Name</th>\n",
       "      <th>Job Titles</th>\n",
       "      <th>Department</th>\n",
       "      <th>Full or Part-Time</th>\n",
       "      <th>Salary or Hourly</th>\n",
       "      <th>Typical Hours</th>\n",
       "      <th>Annual Salary</th>\n",
       "      <th>Hourly Rate</th>\n",
       "      <th>Salaries</th>\n",
       "      <th>H_Rate</th>\n",
       "    </tr>\n",
       "  </thead>\n",
       "  <tbody>\n",
       "    <tr>\n",
       "      <th>0</th>\n",
       "      <td>ALLISON,  PAUL W</td>\n",
       "      <td>LIEUTENANT</td>\n",
       "      <td>FIRE</td>\n",
       "      <td>F</td>\n",
       "      <td>Salary</td>\n",
       "      <td>NaN</td>\n",
       "      <td>$107,790.00</td>\n",
       "      <td>NaN</td>\n",
       "      <td>107790.0</td>\n",
       "      <td>NaN</td>\n",
       "    </tr>\n",
       "    <tr>\n",
       "      <th>1</th>\n",
       "      <td>BRUNO,  KEVIN D</td>\n",
       "      <td>SERGEANT</td>\n",
       "      <td>POLICE</td>\n",
       "      <td>F</td>\n",
       "      <td>Salary</td>\n",
       "      <td>NaN</td>\n",
       "      <td>$104,628.00</td>\n",
       "      <td>NaN</td>\n",
       "      <td>104628.0</td>\n",
       "      <td>NaN</td>\n",
       "    </tr>\n",
       "    <tr>\n",
       "      <th>2</th>\n",
       "      <td>COOPER,  JOHN E</td>\n",
       "      <td>LIEUTENANT-EMT</td>\n",
       "      <td>FIRE</td>\n",
       "      <td>F</td>\n",
       "      <td>Salary</td>\n",
       "      <td>NaN</td>\n",
       "      <td>$114,324.00</td>\n",
       "      <td>NaN</td>\n",
       "      <td>114324.0</td>\n",
       "      <td>NaN</td>\n",
       "    </tr>\n",
       "    <tr>\n",
       "      <th>3</th>\n",
       "      <td>CRESPO,  VILMA I</td>\n",
       "      <td>STAFF ASST</td>\n",
       "      <td>LAW</td>\n",
       "      <td>F</td>\n",
       "      <td>Salary</td>\n",
       "      <td>NaN</td>\n",
       "      <td>$76,932.00</td>\n",
       "      <td>NaN</td>\n",
       "      <td>76932.0</td>\n",
       "      <td>NaN</td>\n",
       "    </tr>\n",
       "    <tr>\n",
       "      <th>4</th>\n",
       "      <td>DOLAN,  ROBERT J</td>\n",
       "      <td>SERGEANT</td>\n",
       "      <td>POLICE</td>\n",
       "      <td>F</td>\n",
       "      <td>Salary</td>\n",
       "      <td>NaN</td>\n",
       "      <td>$111,474.00</td>\n",
       "      <td>NaN</td>\n",
       "      <td>111474.0</td>\n",
       "      <td>NaN</td>\n",
       "    </tr>\n",
       "    <tr>\n",
       "      <th>...</th>\n",
       "      <td>...</td>\n",
       "      <td>...</td>\n",
       "      <td>...</td>\n",
       "      <td>...</td>\n",
       "      <td>...</td>\n",
       "      <td>...</td>\n",
       "      <td>...</td>\n",
       "      <td>...</td>\n",
       "      <td>...</td>\n",
       "      <td>...</td>\n",
       "    </tr>\n",
       "    <tr>\n",
       "      <th>32653</th>\n",
       "      <td>ZYGOWICZ,  PETER J</td>\n",
       "      <td>POLICE OFFICER</td>\n",
       "      <td>POLICE</td>\n",
       "      <td>F</td>\n",
       "      <td>Salary</td>\n",
       "      <td>NaN</td>\n",
       "      <td>$90,024.00</td>\n",
       "      <td>NaN</td>\n",
       "      <td>90024.0</td>\n",
       "      <td>NaN</td>\n",
       "    </tr>\n",
       "    <tr>\n",
       "      <th>32654</th>\n",
       "      <td>ZYLINSKA,  KATARZYNA</td>\n",
       "      <td>POLICE OFFICER</td>\n",
       "      <td>POLICE</td>\n",
       "      <td>F</td>\n",
       "      <td>Salary</td>\n",
       "      <td>NaN</td>\n",
       "      <td>$48,078.00</td>\n",
       "      <td>NaN</td>\n",
       "      <td>48078.0</td>\n",
       "      <td>NaN</td>\n",
       "    </tr>\n",
       "    <tr>\n",
       "      <th>32655</th>\n",
       "      <td>ZYMANTAS,  MARK E</td>\n",
       "      <td>POLICE OFFICER</td>\n",
       "      <td>POLICE</td>\n",
       "      <td>F</td>\n",
       "      <td>Salary</td>\n",
       "      <td>NaN</td>\n",
       "      <td>$87,006.00</td>\n",
       "      <td>NaN</td>\n",
       "      <td>87006.0</td>\n",
       "      <td>NaN</td>\n",
       "    </tr>\n",
       "    <tr>\n",
       "      <th>32656</th>\n",
       "      <td>ZYRKOWSKI,  CARLO E</td>\n",
       "      <td>POLICE OFFICER</td>\n",
       "      <td>POLICE</td>\n",
       "      <td>F</td>\n",
       "      <td>Salary</td>\n",
       "      <td>NaN</td>\n",
       "      <td>$93,354.00</td>\n",
       "      <td>NaN</td>\n",
       "      <td>93354.0</td>\n",
       "      <td>NaN</td>\n",
       "    </tr>\n",
       "    <tr>\n",
       "      <th>32657</th>\n",
       "      <td>ZYSKOWSKI,  DARIUSZ</td>\n",
       "      <td>CHIEF DATA BASE ANALYST</td>\n",
       "      <td>DoIT</td>\n",
       "      <td>F</td>\n",
       "      <td>Salary</td>\n",
       "      <td>NaN</td>\n",
       "      <td>$115,932.00</td>\n",
       "      <td>NaN</td>\n",
       "      <td>115932.0</td>\n",
       "      <td>NaN</td>\n",
       "    </tr>\n",
       "  </tbody>\n",
       "</table>\n",
       "<p>32658 rows × 10 columns</p>\n",
       "</div>"
      ],
      "text/plain": [
       "                        Name               Job Titles Department  \\\n",
       "0           ALLISON,  PAUL W               LIEUTENANT       FIRE   \n",
       "1            BRUNO,  KEVIN D                 SERGEANT     POLICE   \n",
       "2            COOPER,  JOHN E           LIEUTENANT-EMT       FIRE   \n",
       "3           CRESPO,  VILMA I               STAFF ASST        LAW   \n",
       "4           DOLAN,  ROBERT J                 SERGEANT     POLICE   \n",
       "...                      ...                      ...        ...   \n",
       "32653     ZYGOWICZ,  PETER J           POLICE OFFICER     POLICE   \n",
       "32654  ZYLINSKA,  KATARZYNA            POLICE OFFICER     POLICE   \n",
       "32655      ZYMANTAS,  MARK E           POLICE OFFICER     POLICE   \n",
       "32656    ZYRKOWSKI,  CARLO E           POLICE OFFICER     POLICE   \n",
       "32657   ZYSKOWSKI,  DARIUSZ   CHIEF DATA BASE ANALYST       DoIT   \n",
       "\n",
       "      Full or Part-Time Salary or Hourly  Typical Hours Annual Salary  \\\n",
       "0                     F           Salary            NaN  $107,790.00    \n",
       "1                     F           Salary            NaN  $104,628.00    \n",
       "2                     F           Salary            NaN  $114,324.00    \n",
       "3                     F           Salary            NaN   $76,932.00    \n",
       "4                     F           Salary            NaN  $111,474.00    \n",
       "...                 ...              ...            ...           ...   \n",
       "32653                 F           Salary            NaN   $90,024.00    \n",
       "32654                 F           Salary            NaN   $48,078.00    \n",
       "32655                 F           Salary            NaN   $87,006.00    \n",
       "32656                 F           Salary            NaN   $93,354.00    \n",
       "32657                 F           Salary            NaN  $115,932.00    \n",
       "\n",
       "      Hourly Rate  Salaries  H_Rate  \n",
       "0             NaN  107790.0     NaN  \n",
       "1             NaN  104628.0     NaN  \n",
       "2             NaN  114324.0     NaN  \n",
       "3             NaN   76932.0     NaN  \n",
       "4             NaN  111474.0     NaN  \n",
       "...           ...       ...     ...  \n",
       "32653         NaN   90024.0     NaN  \n",
       "32654         NaN   48078.0     NaN  \n",
       "32655         NaN   87006.0     NaN  \n",
       "32656         NaN   93354.0     NaN  \n",
       "32657         NaN  115932.0     NaN  \n",
       "\n",
       "[32658 rows x 10 columns]"
      ]
     },
     "execution_count": 264,
     "metadata": {},
     "output_type": "execute_result"
    }
   ],
   "source": [
    "dataframe[\"H_Rate\"] = dataframe[\"Hourly Rate\"].str.replace(\"$\", \"\").str.replace(\",\", \"\").astype(float)\n",
    "dataframe"
   ]
  },
  {
   "cell_type": "code",
   "execution_count": 265,
   "id": "d04a4eda-53cd-4d1a-bff9-0a6eda757fca",
   "metadata": {},
   "outputs": [
    {
     "name": "stdout",
     "output_type": "stream",
     "text": [
      "Min H_Rate : 2.65\n",
      "Max H_Rate : 96.0\n",
      "Average H_Rate : 32.86819231257135\n"
     ]
    }
   ],
   "source": [
    "print('Min H_Rate :', dataframe['H_Rate'].min())\n",
    "print('Max H_Rate :', dataframe['H_Rate'].max())\n",
    "print('Average H_Rate :', dataframe['H_Rate'].mean())"
   ]
  },
  {
   "cell_type": "code",
   "execution_count": null,
   "id": "a7e96725-ffd2-431b-91fe-6c746c1f10d9",
   "metadata": {},
   "outputs": [],
   "source": []
  },
  {
   "cell_type": "markdown",
   "id": "5a340f88-40e8-4f9c-b1f0-f145ffb0f5c3",
   "metadata": {},
   "source": [
    "***How many employees are getting max Hourly Rate?***"
   ]
  },
  {
   "cell_type": "code",
   "execution_count": 266,
   "id": "1529fc4a-000a-4cb9-a88d-6488eb06561e",
   "metadata": {},
   "outputs": [
    {
     "data": {
      "text/plain": [
       "np.int64(1)"
      ]
     },
     "execution_count": 266,
     "metadata": {},
     "output_type": "execute_result"
    }
   ],
   "source": [
    "max_h_rate = dataframe[\"H_Rate\"].max()\n",
    "dataframe[dataframe[\"H_Rate\"] == max_h_rate].count()[\"Name\"]"
   ]
  },
  {
   "cell_type": "code",
   "execution_count": null,
   "id": "5736eb1c-1aff-4cc3-abe9-c99209c5a345",
   "metadata": {},
   "outputs": [],
   "source": []
  },
  {
   "cell_type": "markdown",
   "id": "1bd01dd5-6428-4379-aecd-74225478100d",
   "metadata": {},
   "source": [
    "***Who is getting max Hourly Rate?***"
   ]
  },
  {
   "cell_type": "code",
   "execution_count": 267,
   "id": "07959e95-407c-427b-a131-1eb95599342b",
   "metadata": {},
   "outputs": [
    {
     "data": {
      "text/html": [
       "<div>\n",
       "<style scoped>\n",
       "    .dataframe tbody tr th:only-of-type {\n",
       "        vertical-align: middle;\n",
       "    }\n",
       "\n",
       "    .dataframe tbody tr th {\n",
       "        vertical-align: top;\n",
       "    }\n",
       "\n",
       "    .dataframe thead th {\n",
       "        text-align: right;\n",
       "    }\n",
       "</style>\n",
       "<table border=\"1\" class=\"dataframe\">\n",
       "  <thead>\n",
       "    <tr style=\"text-align: right;\">\n",
       "      <th></th>\n",
       "      <th>Name</th>\n",
       "      <th>Job Titles</th>\n",
       "      <th>Department</th>\n",
       "      <th>Full or Part-Time</th>\n",
       "      <th>Salary or Hourly</th>\n",
       "      <th>Typical Hours</th>\n",
       "      <th>Annual Salary</th>\n",
       "      <th>Hourly Rate</th>\n",
       "      <th>Salaries</th>\n",
       "      <th>H_Rate</th>\n",
       "    </tr>\n",
       "  </thead>\n",
       "  <tbody>\n",
       "    <tr>\n",
       "      <th>14317</th>\n",
       "      <td>JONES,  JOHN W</td>\n",
       "      <td>PSYCHIATRIST</td>\n",
       "      <td>HEALTH</td>\n",
       "      <td>F</td>\n",
       "      <td>Hourly</td>\n",
       "      <td>35.0</td>\n",
       "      <td>NaN</td>\n",
       "      <td>$96.00</td>\n",
       "      <td>NaN</td>\n",
       "      <td>96.0</td>\n",
       "    </tr>\n",
       "  </tbody>\n",
       "</table>\n",
       "</div>"
      ],
      "text/plain": [
       "                 Name    Job Titles Department Full or Part-Time  \\\n",
       "14317  JONES,  JOHN W  PSYCHIATRIST     HEALTH                 F   \n",
       "\n",
       "      Salary or Hourly  Typical Hours Annual Salary Hourly Rate  Salaries  \\\n",
       "14317           Hourly           35.0           NaN     $96.00        NaN   \n",
       "\n",
       "       H_Rate  \n",
       "14317    96.0  "
      ]
     },
     "execution_count": 267,
     "metadata": {},
     "output_type": "execute_result"
    }
   ],
   "source": [
    "dataframe[dataframe[\"H_Rate\"] == max_h_rate]"
   ]
  },
  {
   "cell_type": "code",
   "execution_count": 268,
   "id": "859df6f7-8226-46c6-8df6-9d29b1eb7d16",
   "metadata": {},
   "outputs": [
    {
     "data": {
      "text/plain": [
       "Name                 JONES,  JOHN W\n",
       "Job Titles             PSYCHIATRIST\n",
       "Department                   HEALTH\n",
       "Full or Part-Time                 F\n",
       "Salary or Hourly             Hourly\n",
       "Typical Hours                  35.0\n",
       "Annual Salary                   NaN\n",
       "Hourly Rate                 $96.00 \n",
       "Salaries                        NaN\n",
       "H_Rate                         96.0\n",
       "Name: 14317, dtype: object"
      ]
     },
     "execution_count": 268,
     "metadata": {},
     "output_type": "execute_result"
    }
   ],
   "source": [
    "#using idxmax\n",
    "dataframe.loc[dataframe[\"H_Rate\"].idxmax()]"
   ]
  },
  {
   "cell_type": "code",
   "execution_count": null,
   "id": "c5bcd5e9-73ae-49d4-a15a-01ad914ceb9f",
   "metadata": {},
   "outputs": [],
   "source": []
  },
  {
   "cell_type": "markdown",
   "id": "8b793367-a50c-4546-814e-8f5c8f077880",
   "metadata": {},
   "source": [
    "***How many employees are earning less than the average Hourly Rate?***"
   ]
  },
  {
   "cell_type": "code",
   "execution_count": 269,
   "id": "c962e70c-2f26-4c9e-bda7-467db6a8de85",
   "metadata": {},
   "outputs": [
    {
     "data": {
      "text/plain": [
       "np.int64(2791)"
      ]
     },
     "execution_count": 269,
     "metadata": {},
     "output_type": "execute_result"
    }
   ],
   "source": [
    "avg_h_rate = dataframe[\"H_Rate\"].mean()\n",
    "dataframe[dataframe[\"H_Rate\"] < avg_h_rate].count()[\"Name\"]"
   ]
  },
  {
   "cell_type": "code",
   "execution_count": null,
   "id": "4754d692-0ac1-4387-bf21-b0ea818c292e",
   "metadata": {},
   "outputs": [],
   "source": []
  },
  {
   "cell_type": "markdown",
   "id": "55407f87-f9ab-4b32-9a4b-a09d048c3aad",
   "metadata": {},
   "source": [
    "***How many employees are paid hourly and they have full-time job?***"
   ]
  },
  {
   "cell_type": "code",
   "execution_count": 270,
   "id": "64b27ee6-b2df-4a7a-8186-ccf1909157ea",
   "metadata": {},
   "outputs": [
    {
     "data": {
      "text/plain": [
       "np.int64(5906)"
      ]
     },
     "execution_count": 270,
     "metadata": {},
     "output_type": "execute_result"
    }
   ],
   "source": [
    "hourly_based = dataframe[(dataframe[\"Salary or Hourly\"] == \"Hourly\") & (dataframe[\"Full or Part-Time\"] == \"F\")].count()[\"Name\"]\n",
    "hourly_based"
   ]
  },
  {
   "cell_type": "code",
   "execution_count": null,
   "id": "1c096b11-7afb-4810-836b-ff5aa203dc64",
   "metadata": {},
   "outputs": [],
   "source": []
  },
  {
   "cell_type": "markdown",
   "id": "b143f703-b28f-4a47-a463-7f99acaa7744",
   "metadata": {},
   "source": [
    "***Find the full-time employees who are working at hourly rate of $10.00?***"
   ]
  },
  {
   "cell_type": "code",
   "execution_count": 271,
   "id": "1e56221f-0144-4181-8fee-d4d0c6ff8e9a",
   "metadata": {},
   "outputs": [
    {
     "data": {
      "text/html": [
       "<div>\n",
       "<style scoped>\n",
       "    .dataframe tbody tr th:only-of-type {\n",
       "        vertical-align: middle;\n",
       "    }\n",
       "\n",
       "    .dataframe tbody tr th {\n",
       "        vertical-align: top;\n",
       "    }\n",
       "\n",
       "    .dataframe thead th {\n",
       "        text-align: right;\n",
       "    }\n",
       "</style>\n",
       "<table border=\"1\" class=\"dataframe\">\n",
       "  <thead>\n",
       "    <tr style=\"text-align: right;\">\n",
       "      <th></th>\n",
       "      <th>Name</th>\n",
       "      <th>Job Titles</th>\n",
       "      <th>Department</th>\n",
       "      <th>Full or Part-Time</th>\n",
       "      <th>Salary or Hourly</th>\n",
       "      <th>Typical Hours</th>\n",
       "      <th>Annual Salary</th>\n",
       "      <th>Hourly Rate</th>\n",
       "      <th>Salaries</th>\n",
       "      <th>H_Rate</th>\n",
       "    </tr>\n",
       "  </thead>\n",
       "  <tbody>\n",
       "    <tr>\n",
       "      <th>1232</th>\n",
       "      <td>AYALA JR,  JESUS</td>\n",
       "      <td>STUDENT INTERN</td>\n",
       "      <td>HUMAN RESOURCES</td>\n",
       "      <td>F</td>\n",
       "      <td>Hourly</td>\n",
       "      <td>35.0</td>\n",
       "      <td>NaN</td>\n",
       "      <td>$10.00</td>\n",
       "      <td>NaN</td>\n",
       "      <td>10.0</td>\n",
       "    </tr>\n",
       "    <tr>\n",
       "      <th>4522</th>\n",
       "      <td>CERVANTES,  BIANCA A</td>\n",
       "      <td>STUDENT INTERN</td>\n",
       "      <td>BUDGET &amp; MGMT</td>\n",
       "      <td>F</td>\n",
       "      <td>Hourly</td>\n",
       "      <td>35.0</td>\n",
       "      <td>NaN</td>\n",
       "      <td>$10.00</td>\n",
       "      <td>NaN</td>\n",
       "      <td>10.0</td>\n",
       "    </tr>\n",
       "    <tr>\n",
       "      <th>6476</th>\n",
       "      <td>DAVILA,  ROBERTO A</td>\n",
       "      <td>ALDERMANIC AIDE</td>\n",
       "      <td>CITY COUNCIL</td>\n",
       "      <td>F</td>\n",
       "      <td>Hourly</td>\n",
       "      <td>35.0</td>\n",
       "      <td>NaN</td>\n",
       "      <td>$10.00</td>\n",
       "      <td>NaN</td>\n",
       "      <td>10.0</td>\n",
       "    </tr>\n",
       "    <tr>\n",
       "      <th>16474</th>\n",
       "      <td>LEVY,  ETHAN</td>\n",
       "      <td>CLERK CITY COUNCIL</td>\n",
       "      <td>CITY COUNCIL</td>\n",
       "      <td>F</td>\n",
       "      <td>Hourly</td>\n",
       "      <td>35.0</td>\n",
       "      <td>NaN</td>\n",
       "      <td>$10.00</td>\n",
       "      <td>NaN</td>\n",
       "      <td>10.0</td>\n",
       "    </tr>\n",
       "  </tbody>\n",
       "</table>\n",
       "</div>"
      ],
      "text/plain": [
       "                       Name          Job Titles       Department  \\\n",
       "1232      AYALA JR,  JESUS       STUDENT INTERN  HUMAN RESOURCES   \n",
       "4522   CERVANTES,  BIANCA A      STUDENT INTERN    BUDGET & MGMT   \n",
       "6476     DAVILA,  ROBERTO A     ALDERMANIC AIDE     CITY COUNCIL   \n",
       "16474         LEVY,  ETHAN   CLERK CITY COUNCIL     CITY COUNCIL   \n",
       "\n",
       "      Full or Part-Time Salary or Hourly  Typical Hours Annual Salary  \\\n",
       "1232                  F           Hourly           35.0           NaN   \n",
       "4522                  F           Hourly           35.0           NaN   \n",
       "6476                  F           Hourly           35.0           NaN   \n",
       "16474                 F           Hourly           35.0           NaN   \n",
       "\n",
       "      Hourly Rate  Salaries  H_Rate  \n",
       "1232      $10.00        NaN    10.0  \n",
       "4522      $10.00        NaN    10.0  \n",
       "6476      $10.00        NaN    10.0  \n",
       "16474     $10.00        NaN    10.0  "
      ]
     },
     "execution_count": 271,
     "metadata": {},
     "output_type": "execute_result"
    }
   ],
   "source": [
    "dataframe[(dataframe[\"Full or Part-Time\"] == \"F\") & (dataframe[\"H_Rate\"] == 10)]"
   ]
  },
  {
   "cell_type": "code",
   "execution_count": null,
   "id": "b381d2e8-7326-4033-9593-3929a29ca9f5",
   "metadata": {},
   "outputs": [],
   "source": []
  },
  {
   "cell_type": "markdown",
   "id": "b501682e-74d9-443f-82db-1356f18b8c73",
   "metadata": {},
   "source": [
    "***How many unique Job Titles are there in the data?***"
   ]
  },
  {
   "cell_type": "code",
   "execution_count": 272,
   "id": "cd2a4b32-6d39-408d-ba4f-7195161616bf",
   "metadata": {},
   "outputs": [
    {
     "data": {
      "text/plain": [
       "1095"
      ]
     },
     "execution_count": 272,
     "metadata": {},
     "output_type": "execute_result"
    }
   ],
   "source": [
    "dataframe[\"Job Titles\"].nunique()"
   ]
  },
  {
   "cell_type": "code",
   "execution_count": null,
   "id": "209d4090-4b91-47ed-a0a6-7a44d8548f48",
   "metadata": {},
   "outputs": [],
   "source": []
  },
  {
   "cell_type": "markdown",
   "id": "c7e33e0c-0a74-459a-ae84-8e8e84b00a21",
   "metadata": {},
   "source": [
    "***What was the average Salary of the employees in each department?***"
   ]
  },
  {
   "cell_type": "code",
   "execution_count": 273,
   "id": "a9bc9c58-5baf-47d4-8472-2c2c52b909a7",
   "metadata": {},
   "outputs": [
    {
     "data": {
      "text/html": [
       "<div>\n",
       "<style scoped>\n",
       "    .dataframe tbody tr th:only-of-type {\n",
       "        vertical-align: middle;\n",
       "    }\n",
       "\n",
       "    .dataframe tbody tr th {\n",
       "        vertical-align: top;\n",
       "    }\n",
       "\n",
       "    .dataframe thead th {\n",
       "        text-align: right;\n",
       "    }\n",
       "</style>\n",
       "<table border=\"1\" class=\"dataframe\">\n",
       "  <thead>\n",
       "    <tr style=\"text-align: right;\">\n",
       "      <th></th>\n",
       "      <th>Name</th>\n",
       "      <th>Job Titles</th>\n",
       "      <th>Department</th>\n",
       "      <th>Full or Part-Time</th>\n",
       "      <th>Salary or Hourly</th>\n",
       "      <th>Typical Hours</th>\n",
       "      <th>Annual Salary</th>\n",
       "      <th>Hourly Rate</th>\n",
       "      <th>Salaries</th>\n",
       "      <th>H_Rate</th>\n",
       "    </tr>\n",
       "  </thead>\n",
       "  <tbody>\n",
       "    <tr>\n",
       "      <th>0</th>\n",
       "      <td>ALLISON,  PAUL W</td>\n",
       "      <td>LIEUTENANT</td>\n",
       "      <td>FIRE</td>\n",
       "      <td>F</td>\n",
       "      <td>Salary</td>\n",
       "      <td>NaN</td>\n",
       "      <td>$107,790.00</td>\n",
       "      <td>NaN</td>\n",
       "      <td>107790.0</td>\n",
       "      <td>NaN</td>\n",
       "    </tr>\n",
       "    <tr>\n",
       "      <th>1</th>\n",
       "      <td>BRUNO,  KEVIN D</td>\n",
       "      <td>SERGEANT</td>\n",
       "      <td>POLICE</td>\n",
       "      <td>F</td>\n",
       "      <td>Salary</td>\n",
       "      <td>NaN</td>\n",
       "      <td>$104,628.00</td>\n",
       "      <td>NaN</td>\n",
       "      <td>104628.0</td>\n",
       "      <td>NaN</td>\n",
       "    </tr>\n",
       "    <tr>\n",
       "      <th>2</th>\n",
       "      <td>COOPER,  JOHN E</td>\n",
       "      <td>LIEUTENANT-EMT</td>\n",
       "      <td>FIRE</td>\n",
       "      <td>F</td>\n",
       "      <td>Salary</td>\n",
       "      <td>NaN</td>\n",
       "      <td>$114,324.00</td>\n",
       "      <td>NaN</td>\n",
       "      <td>114324.0</td>\n",
       "      <td>NaN</td>\n",
       "    </tr>\n",
       "    <tr>\n",
       "      <th>3</th>\n",
       "      <td>CRESPO,  VILMA I</td>\n",
       "      <td>STAFF ASST</td>\n",
       "      <td>LAW</td>\n",
       "      <td>F</td>\n",
       "      <td>Salary</td>\n",
       "      <td>NaN</td>\n",
       "      <td>$76,932.00</td>\n",
       "      <td>NaN</td>\n",
       "      <td>76932.0</td>\n",
       "      <td>NaN</td>\n",
       "    </tr>\n",
       "    <tr>\n",
       "      <th>4</th>\n",
       "      <td>DOLAN,  ROBERT J</td>\n",
       "      <td>SERGEANT</td>\n",
       "      <td>POLICE</td>\n",
       "      <td>F</td>\n",
       "      <td>Salary</td>\n",
       "      <td>NaN</td>\n",
       "      <td>$111,474.00</td>\n",
       "      <td>NaN</td>\n",
       "      <td>111474.0</td>\n",
       "      <td>NaN</td>\n",
       "    </tr>\n",
       "    <tr>\n",
       "      <th>...</th>\n",
       "      <td>...</td>\n",
       "      <td>...</td>\n",
       "      <td>...</td>\n",
       "      <td>...</td>\n",
       "      <td>...</td>\n",
       "      <td>...</td>\n",
       "      <td>...</td>\n",
       "      <td>...</td>\n",
       "      <td>...</td>\n",
       "      <td>...</td>\n",
       "    </tr>\n",
       "    <tr>\n",
       "      <th>32653</th>\n",
       "      <td>ZYGOWICZ,  PETER J</td>\n",
       "      <td>POLICE OFFICER</td>\n",
       "      <td>POLICE</td>\n",
       "      <td>F</td>\n",
       "      <td>Salary</td>\n",
       "      <td>NaN</td>\n",
       "      <td>$90,024.00</td>\n",
       "      <td>NaN</td>\n",
       "      <td>90024.0</td>\n",
       "      <td>NaN</td>\n",
       "    </tr>\n",
       "    <tr>\n",
       "      <th>32654</th>\n",
       "      <td>ZYLINSKA,  KATARZYNA</td>\n",
       "      <td>POLICE OFFICER</td>\n",
       "      <td>POLICE</td>\n",
       "      <td>F</td>\n",
       "      <td>Salary</td>\n",
       "      <td>NaN</td>\n",
       "      <td>$48,078.00</td>\n",
       "      <td>NaN</td>\n",
       "      <td>48078.0</td>\n",
       "      <td>NaN</td>\n",
       "    </tr>\n",
       "    <tr>\n",
       "      <th>32655</th>\n",
       "      <td>ZYMANTAS,  MARK E</td>\n",
       "      <td>POLICE OFFICER</td>\n",
       "      <td>POLICE</td>\n",
       "      <td>F</td>\n",
       "      <td>Salary</td>\n",
       "      <td>NaN</td>\n",
       "      <td>$87,006.00</td>\n",
       "      <td>NaN</td>\n",
       "      <td>87006.0</td>\n",
       "      <td>NaN</td>\n",
       "    </tr>\n",
       "    <tr>\n",
       "      <th>32656</th>\n",
       "      <td>ZYRKOWSKI,  CARLO E</td>\n",
       "      <td>POLICE OFFICER</td>\n",
       "      <td>POLICE</td>\n",
       "      <td>F</td>\n",
       "      <td>Salary</td>\n",
       "      <td>NaN</td>\n",
       "      <td>$93,354.00</td>\n",
       "      <td>NaN</td>\n",
       "      <td>93354.0</td>\n",
       "      <td>NaN</td>\n",
       "    </tr>\n",
       "    <tr>\n",
       "      <th>32657</th>\n",
       "      <td>ZYSKOWSKI,  DARIUSZ</td>\n",
       "      <td>CHIEF DATA BASE ANALYST</td>\n",
       "      <td>DoIT</td>\n",
       "      <td>F</td>\n",
       "      <td>Salary</td>\n",
       "      <td>NaN</td>\n",
       "      <td>$115,932.00</td>\n",
       "      <td>NaN</td>\n",
       "      <td>115932.0</td>\n",
       "      <td>NaN</td>\n",
       "    </tr>\n",
       "  </tbody>\n",
       "</table>\n",
       "<p>32658 rows × 10 columns</p>\n",
       "</div>"
      ],
      "text/plain": [
       "                        Name               Job Titles Department  \\\n",
       "0           ALLISON,  PAUL W               LIEUTENANT       FIRE   \n",
       "1            BRUNO,  KEVIN D                 SERGEANT     POLICE   \n",
       "2            COOPER,  JOHN E           LIEUTENANT-EMT       FIRE   \n",
       "3           CRESPO,  VILMA I               STAFF ASST        LAW   \n",
       "4           DOLAN,  ROBERT J                 SERGEANT     POLICE   \n",
       "...                      ...                      ...        ...   \n",
       "32653     ZYGOWICZ,  PETER J           POLICE OFFICER     POLICE   \n",
       "32654  ZYLINSKA,  KATARZYNA            POLICE OFFICER     POLICE   \n",
       "32655      ZYMANTAS,  MARK E           POLICE OFFICER     POLICE   \n",
       "32656    ZYRKOWSKI,  CARLO E           POLICE OFFICER     POLICE   \n",
       "32657   ZYSKOWSKI,  DARIUSZ   CHIEF DATA BASE ANALYST       DoIT   \n",
       "\n",
       "      Full or Part-Time Salary or Hourly  Typical Hours Annual Salary  \\\n",
       "0                     F           Salary            NaN  $107,790.00    \n",
       "1                     F           Salary            NaN  $104,628.00    \n",
       "2                     F           Salary            NaN  $114,324.00    \n",
       "3                     F           Salary            NaN   $76,932.00    \n",
       "4                     F           Salary            NaN  $111,474.00    \n",
       "...                 ...              ...            ...           ...   \n",
       "32653                 F           Salary            NaN   $90,024.00    \n",
       "32654                 F           Salary            NaN   $48,078.00    \n",
       "32655                 F           Salary            NaN   $87,006.00    \n",
       "32656                 F           Salary            NaN   $93,354.00    \n",
       "32657                 F           Salary            NaN  $115,932.00    \n",
       "\n",
       "      Hourly Rate  Salaries  H_Rate  \n",
       "0             NaN  107790.0     NaN  \n",
       "1             NaN  104628.0     NaN  \n",
       "2             NaN  114324.0     NaN  \n",
       "3             NaN   76932.0     NaN  \n",
       "4             NaN  111474.0     NaN  \n",
       "...           ...       ...     ...  \n",
       "32653         NaN   90024.0     NaN  \n",
       "32654         NaN   48078.0     NaN  \n",
       "32655         NaN   87006.0     NaN  \n",
       "32656         NaN   93354.0     NaN  \n",
       "32657         NaN  115932.0     NaN  \n",
       "\n",
       "[32658 rows x 10 columns]"
      ]
     },
     "execution_count": 273,
     "metadata": {},
     "output_type": "execute_result"
    }
   ],
   "source": [
    "dataframe"
   ]
  },
  {
   "cell_type": "code",
   "execution_count": 274,
   "id": "1b4f82cd-244b-439b-a832-de784fd188d3",
   "metadata": {},
   "outputs": [
    {
     "data": {
      "text/plain": [
       "Department\n",
       "ADMIN HEARNG             78912.947368\n",
       "ANIMAL CONTRL            66089.684211\n",
       "AVIATION                 76140.018777\n",
       "BOARD OF ELECTION        56051.142857\n",
       "BOARD OF ETHICS          94552.500000\n",
       "BUDGET & MGMT            93925.395349\n",
       "BUILDINGS                98864.833534\n",
       "BUSINESS AFFAIRS         80446.425000\n",
       "CITY CLERK               69762.439024\n",
       "CITY COUNCIL             63577.172069\n",
       "COMMUNITY DEVELOPMENT    88363.257143\n",
       "COPA                     98784.705882\n",
       "CULTURAL AFFAIRS         87048.909091\n",
       "DISABILITIES             82431.724138\n",
       "DoIT                     99681.029703\n",
       "FAMILY & SUPPORT         79013.588785\n",
       "FINANCE                  73276.364662\n",
       "FIRE                     97762.348662\n",
       "GENERAL SERVICES         83095.528390\n",
       "HEALTH                   85488.210938\n",
       "HUMAN RELATIONS          93778.588235\n",
       "HUMAN RESOURCES          79851.761194\n",
       "INSPECTOR GEN            84030.666667\n",
       "IPRA                     94429.285714\n",
       "LAW                      84582.814404\n",
       "LICENSE APPL COMM        80568.000000\n",
       "MAYOR'S OFFICE           96165.512308\n",
       "OEMC                     73153.778221\n",
       "POLICE                   87836.025349\n",
       "POLICE BOARD             86136.000000\n",
       "PROCUREMENT              83278.243902\n",
       "PUBLIC LIBRARY           71273.288136\n",
       "STREETS & SAN            84347.775701\n",
       "TRANSPORTN               89976.896061\n",
       "TREASURER                88062.652174\n",
       "WATER MGMNT              89894.111803\n",
       "Name: Salaries, dtype: float64"
      ]
     },
     "execution_count": 274,
     "metadata": {},
     "output_type": "execute_result"
    }
   ],
   "source": [
    "dataframe.groupby(\"Department\")[\"Salaries\"].mean()"
   ]
  },
  {
   "cell_type": "code",
   "execution_count": null,
   "id": "39981ee1-2542-43d4-8b62-c4fae6d7784f",
   "metadata": {},
   "outputs": [],
   "source": []
  },
  {
   "cell_type": "markdown",
   "id": "2f194192-dbfa-4b39-82d9-bb91cd07218e",
   "metadata": {},
   "source": [
    "***What is the job title of 'AGAR, BULENT B'?***"
   ]
  },
  {
   "cell_type": "code",
   "execution_count": 275,
   "id": "53c45fbd-1d27-4156-8c22-7a92d6ea7591",
   "metadata": {},
   "outputs": [
    {
     "data": {
      "text/plain": [
       "230    CHIEF ENGINEER OF SEWERS\n",
       "Name: Job Titles, dtype: object"
      ]
     },
     "execution_count": 275,
     "metadata": {},
     "output_type": "execute_result"
    }
   ],
   "source": [
    "dataframe[dataframe[\"Name\"] == \"AGAR,  BULENT B\"]['Job Titles']\n",
    "# dataframe[dataframe['Name']=='ZYLINSKA, KATARZYNA']['Job Titles']"
   ]
  },
  {
   "cell_type": "code",
   "execution_count": null,
   "id": "611aae95-b12c-4fda-8a41-2d972ff48a73",
   "metadata": {},
   "outputs": [],
   "source": []
  },
  {
   "cell_type": "markdown",
   "id": "1a3689cd-cc66-482a-bf22-011cc96fddd3",
   "metadata": {},
   "source": [
    "***What are the top most common job titles?***"
   ]
  },
  {
   "cell_type": "code",
   "execution_count": 276,
   "id": "b84b133c-7a21-4061-83f2-17041c047ac9",
   "metadata": {},
   "outputs": [
    {
     "data": {
      "text/plain": [
       "Job Titles\n",
       "POLICE OFFICER    9393\n",
       "Name: count, dtype: int64"
      ]
     },
     "execution_count": 276,
     "metadata": {},
     "output_type": "execute_result"
    }
   ],
   "source": [
    "dataframe[\"Job Titles\"].value_counts().head(1)"
   ]
  },
  {
   "cell_type": "code",
   "execution_count": 277,
   "id": "69934975-4cc0-40fc-a6bf-68e50c5fcbc7",
   "metadata": {},
   "outputs": [
    {
     "data": {
      "text/plain": [
       "'POLICE OFFICER'"
      ]
     },
     "execution_count": 277,
     "metadata": {},
     "output_type": "execute_result"
    }
   ],
   "source": [
    "dataframe.groupby(\"Job Titles\").count().idxmax()[\"Name\"]"
   ]
  },
  {
   "cell_type": "code",
   "execution_count": null,
   "id": "13d57559-9f9a-4fed-b66c-323838a72f97",
   "metadata": {},
   "outputs": [],
   "source": []
  },
  {
   "cell_type": "markdown",
   "id": "e07c2cce-a5e6-472a-a69d-cce2b68ac2c7",
   "metadata": {},
   "source": [
    "***How many people have the word 'officer' in their job title?***"
   ]
  },
  {
   "cell_type": "code",
   "execution_count": 278,
   "id": "506aa770-9be4-46a5-b173-8e9ead74d754",
   "metadata": {},
   "outputs": [],
   "source": [
    "# dataframe[dataframe[\"Job Titles\"]]\n",
    "def search_string(title, search_word):\n",
    "    if search_word.lower() in title.lower():\n",
    "        return True\n",
    "    return False"
   ]
  },
  {
   "cell_type": "code",
   "execution_count": 279,
   "id": "344ce2a4-dddb-4dd5-bf76-8642cf5ceff0",
   "metadata": {},
   "outputs": [
    {
     "data": {
      "text/plain": [
       "np.int64(11101)"
      ]
     },
     "execution_count": 279,
     "metadata": {},
     "output_type": "execute_result"
    }
   ],
   "source": [
    "dataframe[\"Job Titles\"].apply(lambda x: search_string(x, \"officer\")).sum()"
   ]
  },
  {
   "cell_type": "code",
   "execution_count": 280,
   "id": "20af50ae-5943-4ced-bce0-c93a902675b2",
   "metadata": {},
   "outputs": [
    {
     "data": {
      "text/plain": [
       "11101"
      ]
     },
     "execution_count": 280,
     "metadata": {},
     "output_type": "execute_result"
    }
   ],
   "source": [
    "sum(dataframe[\"Job Titles\"].apply(lambda x: search_string(x, \"officer\")))"
   ]
  },
  {
   "cell_type": "code",
   "execution_count": null,
   "id": "155fe2a1-bafe-49b0-81ea-b1ba39a68d83",
   "metadata": {},
   "outputs": [],
   "source": []
  },
  {
   "cell_type": "markdown",
   "id": "15762355-fb52-4cd8-b5b1-4750715b51c0",
   "metadata": {},
   "source": [
    "***Save the final dataframe to a csv file***"
   ]
  },
  {
   "cell_type": "code",
   "execution_count": 281,
   "id": "2d9dc2fc-ccae-4476-b528-76b9b6952b7a",
   "metadata": {},
   "outputs": [],
   "source": [
    "dataframe.to_csv(\"pandas_dataframe.csv\")"
   ]
  },
  {
   "cell_type": "code",
   "execution_count": null,
   "id": "f98df135-ce07-49ef-98d4-ef26e8edd1f6",
   "metadata": {},
   "outputs": [],
   "source": []
  }
 ],
 "metadata": {
  "kernelspec": {
   "display_name": "Python 3 (ipykernel)",
   "language": "python",
   "name": "python3"
  },
  "language_info": {
   "codemirror_mode": {
    "name": "ipython",
    "version": 3
   },
   "file_extension": ".py",
   "mimetype": "text/x-python",
   "name": "python",
   "nbconvert_exporter": "python",
   "pygments_lexer": "ipython3",
   "version": "3.13.2"
  }
 },
 "nbformat": 4,
 "nbformat_minor": 5
}
